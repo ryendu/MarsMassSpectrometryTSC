{
 "cells": [
  {
   "cell_type": "code",
   "execution_count": 1,
   "id": "f0d3f543-a1aa-47c6-a3d5-a4784c9d856f",
   "metadata": {},
   "outputs": [
    {
     "name": "stderr",
     "output_type": "stream",
     "text": [
      "/Users/ryandu_1/miniforge3/envs/mlenv/lib/python3.9/site-packages/xgboost/compat.py:36: FutureWarning: pandas.Int64Index is deprecated and will be removed from pandas in a future version. Use pandas.Index with the appropriate dtype instead.\n",
      "  from pandas import MultiIndex, Int64Index\n"
     ]
    }
   ],
   "source": [
    "import torch\n",
    "from torch import nn\n",
    "from torch.functional import F\n",
    "import numpy as np\n",
    "import pytorch_lightning as pl\n",
    "import pandas as pd\n",
    "import matplotlib.pyplot as plt\n",
    "from tqdm import tqdm\n",
    "import xgboost"
   ]
  },
  {
   "cell_type": "code",
   "execution_count": 2,
   "id": "cf21397e-360d-4b25-adf1-072e32472553",
   "metadata": {},
   "outputs": [
    {
     "data": {
      "text/plain": [
       "'1.5.10'"
      ]
     },
     "execution_count": 2,
     "metadata": {},
     "output_type": "execute_result"
    }
   ],
   "source": [
    "pl.__version__"
   ]
  },
  {
   "cell_type": "code",
   "execution_count": 3,
   "id": "d7d3c161-cb01-4932-a60d-d6d3be4721f3",
   "metadata": {},
   "outputs": [],
   "source": [
    "metadata = pd.read_csv(\"data/metadata.csv\")\n",
    "train_metadata = metadata[metadata.split == \"train\"]\n",
    "val_metadata = metadata[metadata.split == \"val\"]\n",
    "test_metadata = metadata[metadata.split == \"test\"]"
   ]
  },
  {
   "cell_type": "code",
   "execution_count": 4,
   "id": "9e8bdd93-a143-4b5f-b6bd-b88cd37d01ff",
   "metadata": {},
   "outputs": [],
   "source": [
    "def get_features(metadata):\n",
    "    features = []\n",
    "    pbar = tqdm(total=len(metadata),position=0,leave=True)\n",
    "    for index, row in metadata.iterrows():\n",
    "        path = row[\"features_path\"] \n",
    "        feature = pd.read_csv(f\"data/{path}\")\n",
    "        features.append(feature)\n",
    "        pbar.update(1)\n",
    "    return features"
   ]
  },
  {
   "cell_type": "code",
   "execution_count": 5,
   "id": "a77f8387-e039-48b1-8531-38a0184515dd",
   "metadata": {},
   "outputs": [],
   "source": [
    "class EGAMSDataset(torch.utils.data.Dataset):\n",
    "    \"\"\"Dataset for Mass Spectrometry\"\"\"\n",
    "\n",
    "    def __init__(self,metadata, split=None):\n",
    "        \"\"\"\n",
    "        Args:\n",
    "            metadata: metadata file specific for training\n",
    "            split (str): 'val' or 'train' or 'test' \n",
    "        \"\"\"\n",
    "        self.features = get_features(metadata)\n",
    "        self.labels = pd.read_csv(f\"data/{split}_labels.csv\").drop(\"sample_id\",axis=1).to_numpy()\n",
    "        \n",
    "\n",
    "    def __len__(self):\n",
    "        return len(self.features)\n",
    "\n",
    "    def __getitem__(self, idx):\n",
    "        if torch.is_tensor(idx):\n",
    "            idx = idx.tolist()\n",
    "        x = torch.Tensor(self.features[idx].to_numpy()).reshape(4,-1)\n",
    "        y = torch.Tensor(self.labels[idx])\n",
    "        \n",
    "        return x,y\n",
    "\n",
    "class EGAMSTestDataset(torch.utils.data.Dataset):\n",
    "    \"\"\"TEST Dataset for Mass Spectrometry | no labels\"\"\"\n",
    "\n",
    "    def __init__(self,metadata):\n",
    "        \"\"\"\n",
    "        Args:\n",
    "            metadata: metadata file specific for training\n",
    "        \"\"\"\n",
    "        self.features = get_features(metadata)\n",
    "        \n",
    "\n",
    "    def __len__(self):\n",
    "        return len(self.features)\n",
    "\n",
    "    def __getitem__(self, idx):\n",
    "        if torch.is_tensor(idx):\n",
    "            idx = idx.tolist()\n",
    "        x = torch.Tensor(self.features[idx].to_numpy()).reshape(4,-1)\n",
    "        return x"
   ]
  },
  {
   "cell_type": "code",
   "execution_count": 39,
   "id": "7945ade8-91d0-421a-9eab-fbcd301c31a7",
   "metadata": {},
   "outputs": [
    {
     "name": "stderr",
     "output_type": "stream",
     "text": [
      "100%|██████████| 766/766 [00:04<00:00, 167.11it/s]\n",
      "100%|██████████| 293/293 [00:01<00:00, 179.14it/s]\n",
      "100%|██████████| 511/511 [00:03<00:00, 134.65it/s]\n"
     ]
    }
   ],
   "source": [
    "train_ds = EGAMSDataset(train_metadata, 'train')\n",
    "val_ds = EGAMSDataset(val_metadata, 'val')\n",
    "test_ds = EGAMSTestDataset(test_metadata)\n",
    "train_loader = torch.utils.data.DataLoader(train_ds, shuffle=False, num_workers=0)\n",
    "val_loader = torch.utils.data.DataLoader(val_ds, batch_size=1, shuffle=False, num_workers=0)\n",
    "test_loader = torch.utils.data.DataLoader(test_ds, batch_size=1, shuffle=False, num_workers=0)"
   ]
  },
  {
   "cell_type": "code",
   "execution_count": 229,
   "id": "d6e48742-b578-48d8-89a9-46ec3e69547e",
   "metadata": {},
   "outputs": [],
   "source": [
    "class CNN1DModel(pl.LightningModule):\n",
    "    def __init__(self):\n",
    "        super().__init__()\n",
    "        \n",
    "        self.conv1 = nn.LazyConv1d(64,3)\n",
    "        self.amp1 = nn.AdaptiveMaxPool1d(128)\n",
    "        self.bn1 = nn.LazyBatchNorm1d()\n",
    "        self.conv2 = nn.LazyConv1d(128,4)\n",
    "        self.amp2 = nn.AdaptiveMaxPool1d(128)\n",
    "        self.bn2 = nn.LazyBatchNorm1d()\n",
    "        self.conv3 = nn.LazyConv1d(64,3)\n",
    "        self.flatten1 = nn.Flatten()\n",
    "        self.lin1 = nn.LazyLinear(64)\n",
    "        self.lin2 = nn.LazyLinear(64)\n",
    "        self.linOut = nn.LazyLinear(10)\n",
    "        \n",
    "\n",
    "        \n",
    "    def forward(self, x):\n",
    "        \n",
    "        x = self.conv1(x)\n",
    "        x = F.relu(x)\n",
    "        x = self.amp1(x)\n",
    "        x = self.bn1(x)\n",
    "        x = F.dropout(x)\n",
    "        x = self.conv2(x)\n",
    "        x = F.relu(x)\n",
    "        x = self.amp2(x)\n",
    "        x = self.bn2(x)\n",
    "        x = F.dropout(x)\n",
    "        x = self.conv3(x)\n",
    "        x = F.relu(x)\n",
    "        x = self.flatten1(x)\n",
    "        x = self.lin1(x)\n",
    "        x = F.relu(x)\n",
    "        x = F.dropout(x)\n",
    "        x = self.lin2(x)\n",
    "        x = F.relu(x)\n",
    "        x = self.linOut(x)\n",
    "        # x = F.softmax(x\n",
    "        # x = F.sigmoid(x)\n",
    "        x = F.relu(x)\n",
    "        return x\n",
    "    \n",
    "\n",
    "    def configure_optimizers(self):\n",
    "        optimizer = torch.optim.Adam(self.parameters(), lr=1e-3)\n",
    "        return optimizer\n",
    "\n",
    "    def training_step(self, train_batch, batch_idx):\n",
    "        x, y = train_batch\n",
    "        x = self.forward(x)\n",
    "        loss = F.mse_loss(y.reshape(-1,1,10), x.reshape(-1,1,10))\n",
    "        self.log('train_loss', loss)\n",
    "        return loss\n",
    "\n",
    "    def validation_step(self, val_batch, batch_idx):\n",
    "        x, y = val_batch\n",
    "        x = self.forward(x)\n",
    "        loss = F.mse_loss(y.reshape(-1,1,10), x.reshape(-1,1,10))\n",
    "        self.log('val_loss', loss, prog_bar=True)\n",
    "        \n",
    "    def predict_step(self, x, batch_idx):\n",
    "        if type(x) == type([1,2]):\n",
    "            x, y = x\n",
    "            return self(x).numpy()\n",
    "        else:\n",
    "            return self(x).numpy()\n"
   ]
  },
  {
   "cell_type": "code",
   "execution_count": 230,
   "id": "e341adb6-348e-4d54-a88a-6883b7caec3e",
   "metadata": {},
   "outputs": [
    {
     "name": "stderr",
     "output_type": "stream",
     "text": [
      "/Users/ryandu_1/miniforge3/envs/mlenv/lib/python3.9/site-packages/torch/nn/modules/lazy.py:178: UserWarning: Lazy modules are a new feature under heavy development so changes to the API or functionality can happen at any moment.\n",
      "  warnings.warn('Lazy modules are a new feature under heavy development '\n"
     ]
    }
   ],
   "source": [
    "model = CNN1DModel()\n",
    "# model = CNN1DModel().load_from_checkpoint(checkpoint_path=\"checkpoints/EGAMSPred-epoch=195-val_loss=0.13.ckpt\")\n",
    "# model = CNN1DModel().load_from_checkpoint(checkpoint_path=\"checkpoints/manual-1.ckpt\")"
   ]
  },
  {
   "cell_type": "code",
   "execution_count": 231,
   "id": "b4870c66-aaee-4b6f-a9ca-486d3f20d42d",
   "metadata": {},
   "outputs": [
    {
     "data": {
      "text/plain": [
       "tensor([[0.0072, 0.0330, 0.0976, 0.0000, 0.0471, 0.0000, 0.0000, 0.0000, 0.0661,\n",
       "         0.0836]], grad_fn=<ReluBackward0>)"
      ]
     },
     "execution_count": 231,
     "metadata": {},
     "output_type": "execute_result"
    }
   ],
   "source": [
    "# shape is batch,features,samples\n",
    "testx = torch.Tensor([np.random.rand(1,4,20)]).reshape(1,4,-1)\n",
    "model(testx)"
   ]
  },
  {
   "cell_type": "code",
   "execution_count": 232,
   "id": "0d43392c-2d61-4158-a32d-dae94f841a2f",
   "metadata": {},
   "outputs": [
    {
     "name": "stderr",
     "output_type": "stream",
     "text": [
      "GPU available: False, used: False\n",
      "TPU available: False, using: 0 TPU cores\n",
      "IPU available: False, using: 0 IPUs\n"
     ]
    }
   ],
   "source": [
    "checkpoint_callback = pl.callbacks.ModelCheckpoint(\n",
    "    monitor=\"val_loss\",\n",
    "    dirpath=\"checkpoints/\",\n",
    "    filename=\"CNN1DV7SoftmaxDropout-{epoch:02d}-{val_loss:.2f}\",\n",
    "    save_top_k=3,\n",
    "    mode=\"min\",\n",
    ")\n",
    "# trainer = pl.Trainer(callbacks=[checkpoint_callback])\n",
    "trainer = pl.Trainer()"
   ]
  },
  {
   "cell_type": "code",
   "execution_count": 233,
   "id": "5653331f-efd4-491d-be09-0cd7edd0db5b",
   "metadata": {},
   "outputs": [
    {
     "name": "stderr",
     "output_type": "stream",
     "text": [
      "\n",
      "   | Name     | Type              | Params\n",
      "------------------------------------------------\n",
      "0  | conv1    | Conv1d            | 832   \n",
      "1  | amp1     | AdaptiveMaxPool1d | 0     \n",
      "2  | bn1      | BatchNorm1d       | 128   \n",
      "3  | conv2    | Conv1d            | 32.9 K\n",
      "4  | amp2     | AdaptiveMaxPool1d | 0     \n",
      "5  | bn2      | BatchNorm1d       | 256   \n",
      "6  | conv3    | Conv1d            | 24.6 K\n",
      "7  | flatten1 | Flatten           | 0     \n",
      "8  | lin1     | Linear            | 516 K \n",
      "9  | lin2     | Linear            | 4.2 K \n",
      "10 | linOut   | Linear            | 650   \n",
      "------------------------------------------------\n",
      "579 K     Trainable params\n",
      "0         Non-trainable params\n",
      "579 K     Total params\n",
      "2.319     Total estimated model params size (MB)\n"
     ]
    },
    {
     "data": {
      "application/vnd.jupyter.widget-view+json": {
       "model_id": "",
       "version_major": 2,
       "version_minor": 0
      },
      "text/plain": [
       "Validation sanity check: 0it [00:00, ?it/s]"
      ]
     },
     "metadata": {},
     "output_type": "display_data"
    },
    {
     "name": "stderr",
     "output_type": "stream",
     "text": [
      "/Users/ryandu_1/miniforge3/envs/mlenv/lib/python3.9/site-packages/pytorch_lightning/trainer/data_loading.py:132: UserWarning: The dataloader, val_dataloader 0, does not have many workers which may be a bottleneck. Consider increasing the value of the `num_workers` argument` (try 8 which is the number of cpus on this machine) in the `DataLoader` init to improve performance.\n",
      "  rank_zero_warn(\n",
      "/Users/ryandu_1/miniforge3/envs/mlenv/lib/python3.9/site-packages/pytorch_lightning/trainer/data_loading.py:132: UserWarning: The dataloader, train_dataloader, does not have many workers which may be a bottleneck. Consider increasing the value of the `num_workers` argument` (try 8 which is the number of cpus on this machine) in the `DataLoader` init to improve performance.\n",
      "  rank_zero_warn(\n"
     ]
    },
    {
     "data": {
      "application/vnd.jupyter.widget-view+json": {
       "model_id": "956b274a8e024808a571ed3dd069c9d7",
       "version_major": 2,
       "version_minor": 0
      },
      "text/plain": [
       "Training: 0it [00:00, ?it/s]"
      ]
     },
     "metadata": {},
     "output_type": "display_data"
    },
    {
     "data": {
      "application/vnd.jupyter.widget-view+json": {
       "model_id": "",
       "version_major": 2,
       "version_minor": 0
      },
      "text/plain": [
       "Validating: 0it [00:00, ?it/s]"
      ]
     },
     "metadata": {},
     "output_type": "display_data"
    },
    {
     "data": {
      "application/vnd.jupyter.widget-view+json": {
       "model_id": "",
       "version_major": 2,
       "version_minor": 0
      },
      "text/plain": [
       "Validating: 0it [00:00, ?it/s]"
      ]
     },
     "metadata": {},
     "output_type": "display_data"
    },
    {
     "data": {
      "application/vnd.jupyter.widget-view+json": {
       "model_id": "",
       "version_major": 2,
       "version_minor": 0
      },
      "text/plain": [
       "Validating: 0it [00:00, ?it/s]"
      ]
     },
     "metadata": {},
     "output_type": "display_data"
    },
    {
     "data": {
      "application/vnd.jupyter.widget-view+json": {
       "model_id": "",
       "version_major": 2,
       "version_minor": 0
      },
      "text/plain": [
       "Validating: 0it [00:00, ?it/s]"
      ]
     },
     "metadata": {},
     "output_type": "display_data"
    },
    {
     "name": "stderr",
     "output_type": "stream",
     "text": [
      "/Users/ryandu_1/miniforge3/envs/mlenv/lib/python3.9/site-packages/pytorch_lightning/trainer/trainer.py:688: UserWarning: Detected KeyboardInterrupt, attempting graceful shutdown...\n",
      "  rank_zero_warn(\"Detected KeyboardInterrupt, attempting graceful shutdown...\")\n"
     ]
    }
   ],
   "source": [
    "trainer.fit(model, train_loader, val_loader)"
   ]
  },
  {
   "cell_type": "code",
   "execution_count": 234,
   "id": "fcc740dc-60e3-47e8-8422-f9af1a0697e6",
   "metadata": {},
   "outputs": [],
   "source": [
    "# trainer.save_checkpoint(\"checkpoints/manual-1.ckpt\")\n"
   ]
  },
  {
   "cell_type": "code",
   "execution_count": 235,
   "id": "f8a2ccd9-8709-47ec-8a59-bc826b7546b6",
   "metadata": {},
   "outputs": [
    {
     "data": {
      "application/vnd.jupyter.widget-view+json": {
       "model_id": "30557bf43d9442c88b8ca047859d93c3",
       "version_major": 2,
       "version_minor": 0
      },
      "text/plain": [
       "Validating: 0it [00:00, ?it/s]"
      ]
     },
     "metadata": {},
     "output_type": "display_data"
    },
    {
     "name": "stdout",
     "output_type": "stream",
     "text": [
      "--------------------------------------------------------------------------------\n",
      "DATALOADER:0 VALIDATE RESULTS\n",
      "{'val_loss': 0.1539989709854126}\n",
      "--------------------------------------------------------------------------------\n"
     ]
    }
   ],
   "source": [
    "a = trainer.validate(model,val_loader)"
   ]
  },
  {
   "cell_type": "code",
   "execution_count": 236,
   "id": "c66e5cd3-3c30-49ef-8e47-e02abc50adc6",
   "metadata": {},
   "outputs": [
    {
     "data": {
      "text/plain": [
       "tensor([[0., 0., 0., 0., 0., 0., 0., 0., 0., 0.]], grad_fn=<ReluBackward0>)"
      ]
     },
     "execution_count": 236,
     "metadata": {},
     "output_type": "execute_result"
    }
   ],
   "source": [
    "model(train_ds[0][0].reshape(1,4,-1))"
   ]
  },
  {
   "cell_type": "code",
   "execution_count": 237,
   "id": "1c11973b-08d6-4268-8219-4c6b35f2d849",
   "metadata": {},
   "outputs": [
    {
     "name": "stderr",
     "output_type": "stream",
     "text": [
      "/Users/ryandu_1/miniforge3/envs/mlenv/lib/python3.9/site-packages/pytorch_lightning/trainer/data_loading.py:132: UserWarning: The dataloader, predict_dataloader 0, does not have many workers which may be a bottleneck. Consider increasing the value of the `num_workers` argument` (try 8 which is the number of cpus on this machine) in the `DataLoader` init to improve performance.\n",
      "  rank_zero_warn(\n"
     ]
    },
    {
     "data": {
      "application/vnd.jupyter.widget-view+json": {
       "model_id": "d1af3044c2a548b8a18c49942e825953",
       "version_major": 2,
       "version_minor": 0
      },
      "text/plain": [
       "Predicting: 645it [00:00, ?it/s]"
      ]
     },
     "metadata": {},
     "output_type": "display_data"
    },
    {
     "data": {
      "application/vnd.jupyter.widget-view+json": {
       "model_id": "b9a6d31cc67041c5b9e1e051a97ad0c5",
       "version_major": 2,
       "version_minor": 0
      },
      "text/plain": [
       "Predicting: 645it [00:00, ?it/s]"
      ]
     },
     "metadata": {},
     "output_type": "display_data"
    }
   ],
   "source": [
    "pred_val = np.array(trainer.predict(model, dataloaders=val_loader)).reshape(-1,10)\n",
    "pred_test = np.array(trainer.predict(model, dataloaders=test_loader)).reshape(-1,10)"
   ]
  },
  {
   "cell_type": "code",
   "execution_count": 238,
   "id": "d783fcfc-7cd3-4bae-9d62-260863ab1976",
   "metadata": {},
   "outputs": [
    {
     "data": {
      "text/plain": [
       "(804, 10)"
      ]
     },
     "execution_count": 238,
     "metadata": {},
     "output_type": "execute_result"
    }
   ],
   "source": [
    "pred_res_df = np.concatenate((pred_val,pred_test))\n",
    "pred_res_df.shape"
   ]
  },
  {
   "cell_type": "code",
   "execution_count": 239,
   "id": "6de1291d-669a-4e1c-86c4-0a4736e056c7",
   "metadata": {},
   "outputs": [],
   "source": [
    "pred_res_df = pd.DataFrame(pred_res_df, columns=['basalt','carbonate','chloride','iron_oxide','oxalate','oxychlorine','phyllosilicate','silicate','sulfate','sulfide'])\n",
    "ex_sub = pd.read_csv('data/submission_format.csv').drop(['basalt','carbonate','chloride','iron_oxide','oxalate','oxychlorine','phyllosilicate','silicate','sulfate','sulfide'],axis=1)\n",
    "pred = ex_sub.join(pred_res_df)"
   ]
  },
  {
   "cell_type": "code",
   "execution_count": 240,
   "id": "6222283b-c5af-48be-bd5e-b69db226ae65",
   "metadata": {},
   "outputs": [
    {
     "data": {
      "text/html": [
       "<div>\n",
       "<style scoped>\n",
       "    .dataframe tbody tr th:only-of-type {\n",
       "        vertical-align: middle;\n",
       "    }\n",
       "\n",
       "    .dataframe tbody tr th {\n",
       "        vertical-align: top;\n",
       "    }\n",
       "\n",
       "    .dataframe thead th {\n",
       "        text-align: right;\n",
       "    }\n",
       "</style>\n",
       "<table border=\"1\" class=\"dataframe\">\n",
       "  <thead>\n",
       "    <tr style=\"text-align: right;\">\n",
       "      <th></th>\n",
       "      <th>sample_id</th>\n",
       "      <th>basalt</th>\n",
       "      <th>carbonate</th>\n",
       "      <th>chloride</th>\n",
       "      <th>iron_oxide</th>\n",
       "      <th>oxalate</th>\n",
       "      <th>oxychlorine</th>\n",
       "      <th>phyllosilicate</th>\n",
       "      <th>silicate</th>\n",
       "      <th>sulfate</th>\n",
       "      <th>sulfide</th>\n",
       "    </tr>\n",
       "  </thead>\n",
       "  <tbody>\n",
       "    <tr>\n",
       "      <th>0</th>\n",
       "      <td>S0766</td>\n",
       "      <td>0.0</td>\n",
       "      <td>0.0</td>\n",
       "      <td>0.0</td>\n",
       "      <td>0.0</td>\n",
       "      <td>0.0</td>\n",
       "      <td>0.0</td>\n",
       "      <td>0.0</td>\n",
       "      <td>0.0</td>\n",
       "      <td>0.0</td>\n",
       "      <td>0.0</td>\n",
       "    </tr>\n",
       "    <tr>\n",
       "      <th>1</th>\n",
       "      <td>S0767</td>\n",
       "      <td>0.0</td>\n",
       "      <td>0.0</td>\n",
       "      <td>0.0</td>\n",
       "      <td>0.0</td>\n",
       "      <td>0.0</td>\n",
       "      <td>0.0</td>\n",
       "      <td>0.0</td>\n",
       "      <td>0.0</td>\n",
       "      <td>0.0</td>\n",
       "      <td>0.0</td>\n",
       "    </tr>\n",
       "    <tr>\n",
       "      <th>2</th>\n",
       "      <td>S0768</td>\n",
       "      <td>0.0</td>\n",
       "      <td>0.0</td>\n",
       "      <td>0.0</td>\n",
       "      <td>0.0</td>\n",
       "      <td>0.0</td>\n",
       "      <td>0.0</td>\n",
       "      <td>0.0</td>\n",
       "      <td>0.0</td>\n",
       "      <td>0.0</td>\n",
       "      <td>0.0</td>\n",
       "    </tr>\n",
       "    <tr>\n",
       "      <th>3</th>\n",
       "      <td>S0769</td>\n",
       "      <td>0.0</td>\n",
       "      <td>0.0</td>\n",
       "      <td>0.0</td>\n",
       "      <td>0.0</td>\n",
       "      <td>0.0</td>\n",
       "      <td>0.0</td>\n",
       "      <td>0.0</td>\n",
       "      <td>0.0</td>\n",
       "      <td>0.0</td>\n",
       "      <td>0.0</td>\n",
       "    </tr>\n",
       "    <tr>\n",
       "      <th>4</th>\n",
       "      <td>S0770</td>\n",
       "      <td>0.0</td>\n",
       "      <td>0.0</td>\n",
       "      <td>0.0</td>\n",
       "      <td>0.0</td>\n",
       "      <td>0.0</td>\n",
       "      <td>0.0</td>\n",
       "      <td>0.0</td>\n",
       "      <td>0.0</td>\n",
       "      <td>0.0</td>\n",
       "      <td>0.0</td>\n",
       "    </tr>\n",
       "    <tr>\n",
       "      <th>...</th>\n",
       "      <td>...</td>\n",
       "      <td>...</td>\n",
       "      <td>...</td>\n",
       "      <td>...</td>\n",
       "      <td>...</td>\n",
       "      <td>...</td>\n",
       "      <td>...</td>\n",
       "      <td>...</td>\n",
       "      <td>...</td>\n",
       "      <td>...</td>\n",
       "      <td>...</td>\n",
       "    </tr>\n",
       "    <tr>\n",
       "      <th>799</th>\n",
       "      <td>S1565</td>\n",
       "      <td>0.0</td>\n",
       "      <td>0.0</td>\n",
       "      <td>0.0</td>\n",
       "      <td>0.0</td>\n",
       "      <td>0.0</td>\n",
       "      <td>0.0</td>\n",
       "      <td>0.0</td>\n",
       "      <td>0.0</td>\n",
       "      <td>0.0</td>\n",
       "      <td>0.0</td>\n",
       "    </tr>\n",
       "    <tr>\n",
       "      <th>800</th>\n",
       "      <td>S1566</td>\n",
       "      <td>0.0</td>\n",
       "      <td>0.0</td>\n",
       "      <td>0.0</td>\n",
       "      <td>0.0</td>\n",
       "      <td>0.0</td>\n",
       "      <td>0.0</td>\n",
       "      <td>0.0</td>\n",
       "      <td>0.0</td>\n",
       "      <td>0.0</td>\n",
       "      <td>0.0</td>\n",
       "    </tr>\n",
       "    <tr>\n",
       "      <th>801</th>\n",
       "      <td>S1567</td>\n",
       "      <td>0.0</td>\n",
       "      <td>0.0</td>\n",
       "      <td>0.0</td>\n",
       "      <td>0.0</td>\n",
       "      <td>0.0</td>\n",
       "      <td>0.0</td>\n",
       "      <td>0.0</td>\n",
       "      <td>0.0</td>\n",
       "      <td>0.0</td>\n",
       "      <td>0.0</td>\n",
       "    </tr>\n",
       "    <tr>\n",
       "      <th>802</th>\n",
       "      <td>S1568</td>\n",
       "      <td>0.0</td>\n",
       "      <td>0.0</td>\n",
       "      <td>0.0</td>\n",
       "      <td>0.0</td>\n",
       "      <td>0.0</td>\n",
       "      <td>0.0</td>\n",
       "      <td>0.0</td>\n",
       "      <td>0.0</td>\n",
       "      <td>0.0</td>\n",
       "      <td>0.0</td>\n",
       "    </tr>\n",
       "    <tr>\n",
       "      <th>803</th>\n",
       "      <td>S1569</td>\n",
       "      <td>0.0</td>\n",
       "      <td>0.0</td>\n",
       "      <td>0.0</td>\n",
       "      <td>0.0</td>\n",
       "      <td>0.0</td>\n",
       "      <td>0.0</td>\n",
       "      <td>0.0</td>\n",
       "      <td>0.0</td>\n",
       "      <td>0.0</td>\n",
       "      <td>0.0</td>\n",
       "    </tr>\n",
       "  </tbody>\n",
       "</table>\n",
       "<p>804 rows × 11 columns</p>\n",
       "</div>"
      ],
      "text/plain": [
       "    sample_id  basalt  carbonate  chloride  iron_oxide  oxalate  oxychlorine  \\\n",
       "0       S0766     0.0        0.0       0.0         0.0      0.0          0.0   \n",
       "1       S0767     0.0        0.0       0.0         0.0      0.0          0.0   \n",
       "2       S0768     0.0        0.0       0.0         0.0      0.0          0.0   \n",
       "3       S0769     0.0        0.0       0.0         0.0      0.0          0.0   \n",
       "4       S0770     0.0        0.0       0.0         0.0      0.0          0.0   \n",
       "..        ...     ...        ...       ...         ...      ...          ...   \n",
       "799     S1565     0.0        0.0       0.0         0.0      0.0          0.0   \n",
       "800     S1566     0.0        0.0       0.0         0.0      0.0          0.0   \n",
       "801     S1567     0.0        0.0       0.0         0.0      0.0          0.0   \n",
       "802     S1568     0.0        0.0       0.0         0.0      0.0          0.0   \n",
       "803     S1569     0.0        0.0       0.0         0.0      0.0          0.0   \n",
       "\n",
       "     phyllosilicate  silicate  sulfate  sulfide  \n",
       "0               0.0       0.0      0.0      0.0  \n",
       "1               0.0       0.0      0.0      0.0  \n",
       "2               0.0       0.0      0.0      0.0  \n",
       "3               0.0       0.0      0.0      0.0  \n",
       "4               0.0       0.0      0.0      0.0  \n",
       "..              ...       ...      ...      ...  \n",
       "799             0.0       0.0      0.0      0.0  \n",
       "800             0.0       0.0      0.0      0.0  \n",
       "801             0.0       0.0      0.0      0.0  \n",
       "802             0.0       0.0      0.0      0.0  \n",
       "803             0.0       0.0      0.0      0.0  \n",
       "\n",
       "[804 rows x 11 columns]"
      ]
     },
     "execution_count": 240,
     "metadata": {},
     "output_type": "execute_result"
    }
   ],
   "source": [
    "pred"
   ]
  },
  {
   "cell_type": "code",
   "execution_count": 214,
   "id": "6284e207-92fc-4a4a-9e69-1dda50a46806",
   "metadata": {},
   "outputs": [],
   "source": [
    "pred.to_csv(\"preds/3_20-1.csv\",index=False)"
   ]
  },
  {
   "cell_type": "code",
   "execution_count": null,
   "id": "5fee4081-87d6-48e7-ab88-5e56286358ba",
   "metadata": {},
   "outputs": [],
   "source": []
  }
 ],
 "metadata": {
  "kernelspec": {
   "display_name": "Python (mlenv)",
   "language": "python",
   "name": "mlenv"
  },
  "language_info": {
   "codemirror_mode": {
    "name": "ipython",
    "version": 3
   },
   "file_extension": ".py",
   "mimetype": "text/x-python",
   "name": "python",
   "nbconvert_exporter": "python",
   "pygments_lexer": "ipython3",
   "version": "3.9.10"
  }
 },
 "nbformat": 4,
 "nbformat_minor": 5
}

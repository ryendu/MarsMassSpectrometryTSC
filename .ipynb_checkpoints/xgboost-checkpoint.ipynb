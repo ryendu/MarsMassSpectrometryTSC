{
 "cells": [
  {
   "cell_type": "code",
   "execution_count": 3,
   "id": "f0d3f543-a1aa-47c6-a3d5-a4784c9d856f",
   "metadata": {},
   "outputs": [],
   "source": [
    "import torch\n",
    "from torch import nn\n",
    "from torch.functional import F\n",
    "import numpy as np\n",
    "import pytorch_lightning as pl\n",
    "import pandas as pd\n",
    "import matplotlib.pyplot as plt\n",
    "from tqdm import tqdm\n",
    "import xgboost as xgb\n",
    "import sklearn\n",
    "from sklearn.metrics import log_loss\n",
    "from UnsupervisedRepresentaion import utils\n",
    "# from UnsupervisedRepresentaion.scikit_wrappers import CausalCNNEncoderClassifier\n",
    "from UnsupervisedRepresentaion.networks import causal_cnn"
   ]
  },
  {
   "cell_type": "markdown",
   "id": "3f74a147-32e9-449a-9383-8b26fe8f0ea2",
   "metadata": {},
   "source": [
    "# Getting Data"
   ]
  },
  {
   "cell_type": "code",
   "execution_count": 4,
   "id": "9e8bdd93-a143-4b5f-b6bd-b88cd37d01ff",
   "metadata": {},
   "outputs": [],
   "source": [
    "def get_features(metadata):\n",
    "    features = []\n",
    "    pbar = tqdm(total=len(metadata),position=0,leave=True)\n",
    "    for index, row in metadata.iterrows():\n",
    "        path = row[\"features_path\"] \n",
    "        feature = pd.read_csv(f\"data/{path}\")\n",
    "        features.append(feature)\n",
    "        pbar.update(1)\n",
    "    return features"
   ]
  },
  {
   "cell_type": "code",
   "execution_count": 5,
   "id": "d7d3c161-cb01-4932-a60d-d6d3be4721f3",
   "metadata": {},
   "outputs": [
    {
     "name": "stderr",
     "output_type": "stream",
     "text": [
      "100%|██████████| 766/766 [00:05<00:00, 135.65it/s]\n",
      "100%|██████████| 293/293 [00:02<00:00, 136.90it/s]\n",
      "100%|██████████| 511/511 [00:05<00:00, 86.00it/s] \n"
     ]
    }
   ],
   "source": [
    "metadata = pd.read_csv(\"data/metadata.csv\")\n",
    "train_metadata = metadata[metadata.split == \"train\"]\n",
    "val_metadata = metadata[metadata.split == \"val\"]\n",
    "test_metadata = metadata[metadata.split == \"test\"]\n",
    "train_features = get_features(train_metadata)\n",
    "val_features = get_features(val_metadata)\n",
    "test_features = get_features(test_metadata)"
   ]
  },
  {
   "cell_type": "code",
   "execution_count": 6,
   "id": "52915cfc-382c-4aba-b231-ada678978bc6",
   "metadata": {},
   "outputs": [],
   "source": [
    "def get_numpy_with_labels(features, split=\"train\"):\n",
    "    labels = pd.read_csv(f\"data/{split}_labels.csv\").drop(\"sample_id\",axis=1).to_numpy()\n",
    "    length = len(features)\n",
    "    x = []\n",
    "    y = []\n",
    "    for idx in range(length):\n",
    "        x.append(features[idx].to_numpy().reshape(-1, 4))\n",
    "        y.append(labels[idx])\n",
    "    return x,y\n",
    "def get_numpy_no_labels(features, split=\"test\"):\n",
    "    length = len(features)\n",
    "    x = []\n",
    "    for idx in range(length):\n",
    "        x.append(features[idx].to_numpy().reshape(-1, 4))\n",
    "    return x"
   ]
  },
  {
   "cell_type": "code",
   "execution_count": 7,
   "id": "2cd0f1fe-ef5d-4d8c-b76c-cb1727d28109",
   "metadata": {},
   "outputs": [],
   "source": [
    "x_train, y_train = get_numpy_with_labels(train_features)\n",
    "x_val, y_val = get_numpy_with_labels(val_features, split=\"val\")\n",
    "x_test = get_numpy_no_labels(test_features)"
   ]
  },
  {
   "cell_type": "markdown",
   "id": "5b0de272-1f6f-4297-856e-2e4b4add887f",
   "metadata": {},
   "source": [
    "# Feature Analysis"
   ]
  },
  {
   "cell_type": "code",
   "execution_count": 8,
   "id": "8034bb09-5372-4fd5-9817-7c35df605641",
   "metadata": {},
   "outputs": [
    {
     "data": {
      "text/plain": [
       "(10020, 4)"
      ]
     },
     "execution_count": 8,
     "metadata": {},
     "output_type": "execute_result"
    }
   ],
   "source": [
    "x_train[1].shape"
   ]
  },
  {
   "cell_type": "code",
   "execution_count": 9,
   "id": "a216a59f-3dda-49f1-823c-57a9b56d946d",
   "metadata": {},
   "outputs": [
    {
     "data": {
      "text/plain": [
       "array([0, 0, 0, 0, 0, 0, 0, 0, 1, 0])"
      ]
     },
     "execution_count": 9,
     "metadata": {},
     "output_type": "execute_result"
    }
   ],
   "source": [
    "y_train[0]"
   ]
  },
  {
   "cell_type": "code",
   "execution_count": 10,
   "id": "aca960e8-d9db-4c55-81fe-9defae93d82a",
   "metadata": {},
   "outputs": [
    {
     "name": "stderr",
     "output_type": "stream",
     "text": [
      "100%|██████████| 766/766 [00:08<00:00, 85.14it/s] \n"
     ]
    }
   ],
   "source": [
    "features = get_features(train_metadata)"
   ]
  },
  {
   "cell_type": "code",
   "execution_count": 11,
   "id": "d17f811c-ddd5-4bc9-8e5b-8dc623542025",
   "metadata": {},
   "outputs": [
    {
     "data": {
      "text/html": [
       "<div>\n",
       "<style scoped>\n",
       "    .dataframe tbody tr th:only-of-type {\n",
       "        vertical-align: middle;\n",
       "    }\n",
       "\n",
       "    .dataframe tbody tr th {\n",
       "        vertical-align: top;\n",
       "    }\n",
       "\n",
       "    .dataframe thead th {\n",
       "        text-align: right;\n",
       "    }\n",
       "</style>\n",
       "<table border=\"1\" class=\"dataframe\">\n",
       "  <thead>\n",
       "    <tr style=\"text-align: right;\">\n",
       "      <th></th>\n",
       "      <th>time</th>\n",
       "      <th>temp</th>\n",
       "      <th>m/z</th>\n",
       "      <th>abundance</th>\n",
       "    </tr>\n",
       "  </thead>\n",
       "  <tbody>\n",
       "    <tr>\n",
       "      <th>0</th>\n",
       "      <td>0.0</td>\n",
       "      <td>35.289</td>\n",
       "      <td>0.0</td>\n",
       "      <td>5.550957e-11</td>\n",
       "    </tr>\n",
       "    <tr>\n",
       "      <th>1</th>\n",
       "      <td>0.0</td>\n",
       "      <td>35.289</td>\n",
       "      <td>1.0</td>\n",
       "      <td>5.318589e-11</td>\n",
       "    </tr>\n",
       "    <tr>\n",
       "      <th>2</th>\n",
       "      <td>0.0</td>\n",
       "      <td>35.289</td>\n",
       "      <td>2.0</td>\n",
       "      <td>2.040361e-11</td>\n",
       "    </tr>\n",
       "    <tr>\n",
       "      <th>3</th>\n",
       "      <td>0.0</td>\n",
       "      <td>35.289</td>\n",
       "      <td>3.0</td>\n",
       "      <td>3.989464e-11</td>\n",
       "    </tr>\n",
       "    <tr>\n",
       "      <th>4</th>\n",
       "      <td>0.0</td>\n",
       "      <td>35.289</td>\n",
       "      <td>4.0</td>\n",
       "      <td>1.594648e-08</td>\n",
       "    </tr>\n",
       "  </tbody>\n",
       "</table>\n",
       "</div>"
      ],
      "text/plain": [
       "   time    temp  m/z     abundance\n",
       "0   0.0  35.289  0.0  5.550957e-11\n",
       "1   0.0  35.289  1.0  5.318589e-11\n",
       "2   0.0  35.289  2.0  2.040361e-11\n",
       "3   0.0  35.289  3.0  3.989464e-11\n",
       "4   0.0  35.289  4.0  1.594648e-08"
      ]
     },
     "execution_count": 11,
     "metadata": {},
     "output_type": "execute_result"
    }
   ],
   "source": [
    "features[0].head()"
   ]
  },
  {
   "cell_type": "code",
   "execution_count": 12,
   "id": "310c6915-62dc-4bd7-871b-54e8439f2b94",
   "metadata": {},
   "outputs": [
    {
     "data": {
      "text/plain": [
       "array([[0.000000e+00, 3.528900e+01, 0.000000e+00, 5.550957e-11],\n",
       "       [0.000000e+00, 3.528900e+01, 1.000000e+00, 5.318589e-11],\n",
       "       [0.000000e+00, 3.528900e+01, 2.000000e+00, 2.040361e-11],\n",
       "       ...,\n",
       "       [1.971660e+03, 3.703830e+02, 1.970000e+02, 1.601590e-14],\n",
       "       [1.971660e+03, 3.703830e+02, 1.980000e+02, 4.599742e-15],\n",
       "       [1.971660e+03, 3.703830e+02, 1.990000e+02, 3.982013e-14]])"
      ]
     },
     "execution_count": 12,
     "metadata": {},
     "output_type": "execute_result"
    }
   ],
   "source": [
    "features[0].to_numpy()"
   ]
  },
  {
   "cell_type": "code",
   "execution_count": 13,
   "id": "9993e2d0-755b-46d4-9d27-76f23a4044a5",
   "metadata": {},
   "outputs": [
    {
     "data": {
      "text/plain": [
       "766"
      ]
     },
     "execution_count": 13,
     "metadata": {},
     "output_type": "execute_result"
    }
   ],
   "source": [
    "len(features)"
   ]
  },
  {
   "cell_type": "code",
   "execution_count": 14,
   "id": "0219d616-b1bc-4074-a413-3e9871c4d1ab",
   "metadata": {},
   "outputs": [],
   "source": [
    "a = features[0].to_numpy().reshape(4,-1)"
   ]
  },
  {
   "cell_type": "code",
   "execution_count": 15,
   "id": "d25c5325-52c5-40c1-af0c-af01a037e6b8",
   "metadata": {},
   "outputs": [
    {
     "data": {
      "text/plain": [
       "array([ 0,  1,  2,  3,  4,  5,  6,  7,  8,  9, 10, 11, 12, 13, 14, 15, 16,\n",
       "       17, 18, 19])"
      ]
     },
     "execution_count": 15,
     "metadata": {},
     "output_type": "execute_result"
    }
   ],
   "source": [
    "np.arange(20)"
   ]
  },
  {
   "cell_type": "code",
   "execution_count": 16,
   "id": "6d888621-cde3-4997-809f-6ebdf46b35e7",
   "metadata": {},
   "outputs": [
    {
     "data": {
      "text/plain": [
       "<BarContainer object of 38600 artists>"
      ]
     },
     "execution_count": 16,
     "metadata": {},
     "output_type": "execute_result"
    },
    {
     "data": {
      "image/png": "[encoded data removed]",
      "text/plain": [
       "<Figure size 432x288 with 1 Axes>"
      ]
     },
     "metadata": {
      "needs_background": "light"
     },
     "output_type": "display_data"
    }
   ],
   "source": [
    "plt.bar(a[2], a[3])"
   ]
  },
  {
   "cell_type": "markdown",
   "id": "acf6a8e0-a2d3-4df7-b332-c791bd5d8d6c",
   "metadata": {},
   "source": [
    "# Unsupervised Representation"
   ]
  },
  {
   "cell_type": "code",
   "execution_count": 19,
   "id": "d43c909c-6585-4946-967f-76d45453fe02",
   "metadata": {},
   "outputs": [],
   "source": [
    "# classifier = CausalCNNEncoderClassifier()"
   ]
  },
  {
   "cell_type": "code",
   "execution_count": 20,
   "id": "79b4a93c-7fb4-4f53-82f9-371e0289c5ed",
   "metadata": {},
   "outputs": [],
   "source": [
    "channels=50\n",
    "depth=1\n",
    "reduced_size=100\n",
    "out_channels=100\n",
    "kernel_size=4\n",
    "in_channels=4"
   ]
  },
  {
   "cell_type": "code",
   "execution_count": 21,
   "id": "051e2ebb-7653-4aba-8e40-c8656851d58b",
   "metadata": {},
   "outputs": [],
   "source": [
    "encoder = causal_cnn.CausalCNNEncoder(in_channels, channels, depth, reduced_size, out_channels, kernel_size)"
   ]
  },
  {
   "cell_type": "code",
   "execution_count": 22,
   "id": "a4277543-8869-4aea-99fc-968f90f0fa92",
   "metadata": {},
   "outputs": [],
   "source": [
    "x = torch.Tensor(x_val[2]).reshape(1,4,-1)"
   ]
  },
  {
   "cell_type": "code",
   "execution_count": 23,
   "id": "5794b941-35cc-4a93-adee-7b6d9224b2df",
   "metadata": {},
   "outputs": [
    {
     "data": {
      "text/plain": [
       "torch.Size([1, 100])"
      ]
     },
     "execution_count": 23,
     "metadata": {},
     "output_type": "execute_result"
    }
   ],
   "source": [
    "encoder(x).shape"
   ]
  },
  {
   "cell_type": "code",
   "execution_count": 34,
   "id": "54ec666a-4e5c-4cfe-b4cc-854c82cb5afa",
   "metadata": {},
   "outputs": [],
   "source": [
    "def get_representation(x,channels=50, depth=1, reduced_size=100, out_channels=100, kernel_size=4, in_channels=4):\n",
    "    rep = []\n",
    "    pbar = tqdm(total=len(x),position=0,leave=True)\n",
    "    for i in x:\n",
    "        i = encoder(torch.Tensor(i.reshape(1,4,-1)))\n",
    "        rep.append(i.detach().numpy())\n",
    "        pbar.update(1)\n",
    "    return np.array(rep)"
   ]
  },
  {
   "cell_type": "code",
   "execution_count": 35,
   "id": "ab547e5c-3f95-41f7-9a16-608dee46b304",
   "metadata": {},
   "outputs": [
    {
     "name": "stderr",
     "output_type": "stream",
     "text": [
      "100%|██████████| 766/766 [01:28<00:00,  8.70it/s]\n"
     ]
    }
   ],
   "source": [
    "x_train_rep = get_representation(x_train)"
   ]
  },
  {
   "cell_type": "code",
   "execution_count": 36,
   "id": "e815713f-6c85-4b36-8fe6-39098016fa23",
   "metadata": {},
   "outputs": [
    {
     "data": {
      "text/plain": [
       "(766, 1, 100)"
      ]
     },
     "execution_count": 36,
     "metadata": {},
     "output_type": "execute_result"
    }
   ],
   "source": [
    "x_train_rep.shape"
   ]
  },
  {
   "cell_type": "code",
   "execution_count": 237,
   "id": "72026875-08c1-4bca-b4dc-414330d2aee4",
   "metadata": {},
   "outputs": [
    {
     "name": "stdout",
     "output_type": "stream",
     "text": [
      "0.15759962221968643\n"
     ]
    }
   ],
   "source": [
    "print(np.mean(np.mean((pred - np.array(y_val[:20]))**2, axis=0))) #after"
   ]
  },
  {
   "cell_type": "code",
   "execution_count": 243,
   "id": "747d4577-3461-4aca-8987-0477c582a926",
   "metadata": {},
   "outputs": [],
   "source": [
    "from sklearn.ensemble import VotingClassifier"
   ]
  },
  {
   "cell_type": "code",
   "execution_count": 244,
   "id": "3ad5eec7-cd78-46a0-9d50-bbc5b14d1056",
   "metadata": {},
   "outputs": [],
   "source": [
    "vc = VotingClassifier(estimators=models,voting='hard')"
   ]
  },
  {
   "cell_type": "code",
   "execution_count": 246,
   "id": "e05e6e4d-46b2-48d4-81f0-f4ce7aab015e",
   "metadata": {},
   "outputs": [
    {
     "ename": "TypeError",
     "evalue": "'XGBRegressor' object is not iterable",
     "output_type": "error",
     "traceback": [
      "\u001b[0;31m---------------------------------------------------------------------------\u001b[0m",
      "\u001b[0;31mTypeError\u001b[0m                                 Traceback (most recent call last)",
      "Input \u001b[0;32mIn [246]\u001b[0m, in \u001b[0;36m<cell line: 1>\u001b[0;34m()\u001b[0m\n\u001b[0;32m----> 1\u001b[0m \u001b[43mvc\u001b[49m\u001b[38;5;241;43m.\u001b[39;49m\u001b[43mfit\u001b[49m\u001b[43m(\u001b[49m\u001b[43mx_train\u001b[49m\u001b[43m[\u001b[49m\u001b[38;5;241;43m0\u001b[39;49m\u001b[43m]\u001b[49m\u001b[43m,\u001b[49m\u001b[43m \u001b[49m\u001b[43mnp\u001b[49m\u001b[38;5;241;43m.\u001b[39;49m\u001b[43mtile\u001b[49m\u001b[43m(\u001b[49m\u001b[43my_train\u001b[49m\u001b[43m[\u001b[49m\u001b[38;5;241;43m0\u001b[39;49m\u001b[43m]\u001b[49m\u001b[43m,\u001b[49m\u001b[38;5;28;43mlen\u001b[39;49m\u001b[43m(\u001b[49m\u001b[43mx_train\u001b[49m\u001b[43m[\u001b[49m\u001b[38;5;241;43m0\u001b[39;49m\u001b[43m]\u001b[49m\u001b[43m)\u001b[49m\u001b[43m)\u001b[49m\u001b[43m)\u001b[49m\n",
      "File \u001b[0;32m~/miniforge3/envs/mlenv/lib/python3.9/site-packages/sklearn/ensemble/_voting.py:324\u001b[0m, in \u001b[0;36mVotingClassifier.fit\u001b[0;34m(self, X, y, sample_weight)\u001b[0m\n\u001b[1;32m    321\u001b[0m \u001b[38;5;28mself\u001b[39m\u001b[38;5;241m.\u001b[39mclasses_ \u001b[38;5;241m=\u001b[39m \u001b[38;5;28mself\u001b[39m\u001b[38;5;241m.\u001b[39mle_\u001b[38;5;241m.\u001b[39mclasses_\n\u001b[1;32m    322\u001b[0m transformed_y \u001b[38;5;241m=\u001b[39m \u001b[38;5;28mself\u001b[39m\u001b[38;5;241m.\u001b[39mle_\u001b[38;5;241m.\u001b[39mtransform(y)\n\u001b[0;32m--> 324\u001b[0m \u001b[38;5;28;01mreturn\u001b[39;00m \u001b[38;5;28;43msuper\u001b[39;49m\u001b[43m(\u001b[49m\u001b[43m)\u001b[49m\u001b[38;5;241;43m.\u001b[39;49m\u001b[43mfit\u001b[49m\u001b[43m(\u001b[49m\u001b[43mX\u001b[49m\u001b[43m,\u001b[49m\u001b[43m \u001b[49m\u001b[43mtransformed_y\u001b[49m\u001b[43m,\u001b[49m\u001b[43m \u001b[49m\u001b[43msample_weight\u001b[49m\u001b[43m)\u001b[49m\n",
      "File \u001b[0;32m~/miniforge3/envs/mlenv/lib/python3.9/site-packages/sklearn/ensemble/_voting.py:65\u001b[0m, in \u001b[0;36m_BaseVoting.fit\u001b[0;34m(self, X, y, sample_weight)\u001b[0m\n\u001b[1;32m     62\u001b[0m \u001b[38;5;129m@abstractmethod\u001b[39m\n\u001b[1;32m     63\u001b[0m \u001b[38;5;28;01mdef\u001b[39;00m \u001b[38;5;21mfit\u001b[39m(\u001b[38;5;28mself\u001b[39m, X, y, sample_weight\u001b[38;5;241m=\u001b[39m\u001b[38;5;28;01mNone\u001b[39;00m):\n\u001b[1;32m     64\u001b[0m     \u001b[38;5;124;03m\"\"\"Get common fit operations.\"\"\"\u001b[39;00m\n\u001b[0;32m---> 65\u001b[0m     names, clfs \u001b[38;5;241m=\u001b[39m \u001b[38;5;28;43mself\u001b[39;49m\u001b[38;5;241;43m.\u001b[39;49m\u001b[43m_validate_estimators\u001b[49m\u001b[43m(\u001b[49m\u001b[43m)\u001b[49m\n\u001b[1;32m     67\u001b[0m     \u001b[38;5;28;01mif\u001b[39;00m \u001b[38;5;28mself\u001b[39m\u001b[38;5;241m.\u001b[39mweights \u001b[38;5;129;01mis\u001b[39;00m \u001b[38;5;129;01mnot\u001b[39;00m \u001b[38;5;28;01mNone\u001b[39;00m \u001b[38;5;129;01mand\u001b[39;00m \u001b[38;5;28mlen\u001b[39m(\u001b[38;5;28mself\u001b[39m\u001b[38;5;241m.\u001b[39mweights) \u001b[38;5;241m!=\u001b[39m \u001b[38;5;28mlen\u001b[39m(\u001b[38;5;28mself\u001b[39m\u001b[38;5;241m.\u001b[39mestimators):\n\u001b[1;32m     68\u001b[0m         \u001b[38;5;28;01mraise\u001b[39;00m \u001b[38;5;167;01mValueError\u001b[39;00m(\n\u001b[1;32m     69\u001b[0m             \u001b[38;5;124m\"\u001b[39m\u001b[38;5;124mNumber of `estimators` and weights must be equal\u001b[39m\u001b[38;5;124m\"\u001b[39m\n\u001b[1;32m     70\u001b[0m             \u001b[38;5;124m\"\u001b[39m\u001b[38;5;124m; got \u001b[39m\u001b[38;5;132;01m%d\u001b[39;00m\u001b[38;5;124m weights, \u001b[39m\u001b[38;5;132;01m%d\u001b[39;00m\u001b[38;5;124m estimators\u001b[39m\u001b[38;5;124m\"\u001b[39m\n\u001b[1;32m     71\u001b[0m             \u001b[38;5;241m%\u001b[39m (\u001b[38;5;28mlen\u001b[39m(\u001b[38;5;28mself\u001b[39m\u001b[38;5;241m.\u001b[39mweights), \u001b[38;5;28mlen\u001b[39m(\u001b[38;5;28mself\u001b[39m\u001b[38;5;241m.\u001b[39mestimators))\n\u001b[1;32m     72\u001b[0m         )\n",
      "File \u001b[0;32m~/miniforge3/envs/mlenv/lib/python3.9/site-packages/sklearn/ensemble/_base.py:247\u001b[0m, in \u001b[0;36m_BaseHeterogeneousEnsemble._validate_estimators\u001b[0;34m(self)\u001b[0m\n\u001b[1;32m    242\u001b[0m \u001b[38;5;28;01mif\u001b[39;00m \u001b[38;5;28mself\u001b[39m\u001b[38;5;241m.\u001b[39mestimators \u001b[38;5;129;01mis\u001b[39;00m \u001b[38;5;28;01mNone\u001b[39;00m \u001b[38;5;129;01mor\u001b[39;00m \u001b[38;5;28mlen\u001b[39m(\u001b[38;5;28mself\u001b[39m\u001b[38;5;241m.\u001b[39mestimators) \u001b[38;5;241m==\u001b[39m \u001b[38;5;241m0\u001b[39m:\n\u001b[1;32m    243\u001b[0m     \u001b[38;5;28;01mraise\u001b[39;00m \u001b[38;5;167;01mValueError\u001b[39;00m(\n\u001b[1;32m    244\u001b[0m         \u001b[38;5;124m\"\u001b[39m\u001b[38;5;124mInvalid \u001b[39m\u001b[38;5;124m'\u001b[39m\u001b[38;5;124mestimators\u001b[39m\u001b[38;5;124m'\u001b[39m\u001b[38;5;124m attribute, \u001b[39m\u001b[38;5;124m'\u001b[39m\u001b[38;5;124mestimators\u001b[39m\u001b[38;5;124m'\u001b[39m\u001b[38;5;124m should be a list\u001b[39m\u001b[38;5;124m\"\u001b[39m\n\u001b[1;32m    245\u001b[0m         \u001b[38;5;124m\"\u001b[39m\u001b[38;5;124m of (string, estimator) tuples.\u001b[39m\u001b[38;5;124m\"\u001b[39m\n\u001b[1;32m    246\u001b[0m     )\n\u001b[0;32m--> 247\u001b[0m names, estimators \u001b[38;5;241m=\u001b[39m \u001b[38;5;28;43mzip\u001b[39;49m\u001b[43m(\u001b[49m\u001b[38;5;241;43m*\u001b[39;49m\u001b[38;5;28;43mself\u001b[39;49m\u001b[38;5;241;43m.\u001b[39;49m\u001b[43mestimators\u001b[49m\u001b[43m)\u001b[49m\n\u001b[1;32m    248\u001b[0m \u001b[38;5;66;03m# defined by MetaEstimatorMixin\u001b[39;00m\n\u001b[1;32m    249\u001b[0m \u001b[38;5;28mself\u001b[39m\u001b[38;5;241m.\u001b[39m_validate_names(names)\n",
      "\u001b[0;31mTypeError\u001b[0m: 'XGBRegressor' object is not iterable"
     ]
    }
   ],
   "source": [
    "vc.fit(x_train[0], np.tile(y_train[0],len(x_train[0])))"
   ]
  },
  {
   "cell_type": "code",
   "execution_count": null,
   "id": "55ad7a90-e385-401e-b36e-02133d7b286a",
   "metadata": {},
   "outputs": [],
   "source": []
  },
  {
   "cell_type": "code",
   "execution_count": null,
   "id": "25b512df-f7a3-4244-b8c2-6ab3729308d9",
   "metadata": {},
   "outputs": [],
   "source": []
  },
  {
   "cell_type": "code",
   "execution_count": null,
   "id": "df358cda-cbd8-463b-9b1c-d6bfb22ea6f3",
   "metadata": {},
   "outputs": [],
   "source": []
  },
  {
   "cell_type": "code",
   "execution_count": null,
   "id": "27c1563a-1c5c-457a-8559-20e6b6b2e6fe",
   "metadata": {},
   "outputs": [],
   "source": []
  },
  {
   "cell_type": "markdown",
   "id": "3d0b1859-0f10-4c89-89c9-6b29639d6bba",
   "metadata": {},
   "source": [
    "# Model Tweaking"
   ]
  },
  {
   "cell_type": "code",
   "execution_count": 75,
   "id": "c4665d70-91cc-47ad-960c-8f6b33a5005e",
   "metadata": {},
   "outputs": [
    {
     "name": "stderr",
     "output_type": "stream",
     "text": [
      "/Users/ryandu_1/miniforge3/envs/mlenv/lib/python3.9/site-packages/xgboost/data.py:798: VisibleDeprecationWarning: Creating an ndarray from ragged nested sequences (which is a list-or-tuple of lists-or-tuples-or ndarrays with different lengths or shapes) is deprecated. If you meant to do this, you must specify 'dtype=object' when creating the ndarray.\n",
      "  array = np.array(data)\n"
     ]
    },
    {
     "ename": "ValueError",
     "evalue": "('Expecting 2 dimensional numpy.ndarray, got: ', (766,))",
     "output_type": "error",
     "traceback": [
      "\u001b[0;31m---------------------------------------------------------------------------\u001b[0m",
      "\u001b[0;31mValueError\u001b[0m                                Traceback (most recent call last)",
      "Input \u001b[0;32mIn [75]\u001b[0m, in \u001b[0;36m<cell line: 6>\u001b[0;34m()\u001b[0m\n\u001b[1;32m      1\u001b[0m \u001b[38;5;66;03m# reg = xgb.XGBRegressor(tree_method=\"hist\", n_estimators=64, ) t 0.00892 v 0.13876\u001b[39;00m\n\u001b[1;32m      2\u001b[0m \u001b[38;5;66;03m# reg = xgb.XGBRegressor(n_estimators=64, ) t 0.006557 v 0.13177\u001b[39;00m\n\u001b[1;32m      3\u001b[0m \u001b[38;5;66;03m# reg = xgb.XGBRegressor() t 0.0022319 v 0.13731 \u001b[39;00m\n\u001b[1;32m      4\u001b[0m \u001b[38;5;66;03m# reg = xgb.XGBRegressor(objective='reg:squarederror',max_depth=4, subsample=0.5, n_estimators=400, learning_rate = 0.01) # t 0.06649 v 0.10679\u001b[39;00m\n\u001b[1;32m      5\u001b[0m reg \u001b[38;5;241m=\u001b[39m xgb\u001b[38;5;241m.\u001b[39mXGBRegressor(max_depth\u001b[38;5;241m=\u001b[39m\u001b[38;5;241m4\u001b[39m, subsample\u001b[38;5;241m=\u001b[39m\u001b[38;5;241m0.5\u001b[39m, n_estimators\u001b[38;5;241m=\u001b[39m\u001b[38;5;241m400\u001b[39m, learning_rate \u001b[38;5;241m=\u001b[39m \u001b[38;5;241m0.01\u001b[39m) \u001b[38;5;66;03m# t 0.06649 v 0.10679\u001b[39;00m\n\u001b[0;32m----> 6\u001b[0m reg \u001b[38;5;241m=\u001b[39m \u001b[43mreg\u001b[49m\u001b[38;5;241;43m.\u001b[39;49m\u001b[43mfit\u001b[49m\u001b[43m(\u001b[49m\u001b[43mx_train\u001b[49m\u001b[43m,\u001b[49m\u001b[43m \u001b[49m\u001b[43my_train\u001b[49m\u001b[43m,\u001b[49m\u001b[43m \u001b[49m\u001b[43meval_set\u001b[49m\u001b[38;5;241;43m=\u001b[39;49m\u001b[43m[\u001b[49m\u001b[43m(\u001b[49m\u001b[43mx_train\u001b[49m\u001b[43m,\u001b[49m\u001b[43m \u001b[49m\u001b[43my_train\u001b[49m\u001b[43m)\u001b[49m\u001b[43m]\u001b[49m\u001b[43m,\u001b[49m\u001b[43mverbose\u001b[49m\u001b[38;5;241;43m=\u001b[39;49m\u001b[38;5;241;43m0\u001b[39;49m\u001b[43m)\u001b[49m\n",
      "File \u001b[0;32m~/miniforge3/envs/mlenv/lib/python3.9/site-packages/xgboost/core.py:529\u001b[0m, in \u001b[0;36m_deprecate_positional_args.<locals>.inner_f\u001b[0;34m(*args, **kwargs)\u001b[0m\n\u001b[1;32m    527\u001b[0m \u001b[38;5;28;01mfor\u001b[39;00m k, arg \u001b[38;5;129;01min\u001b[39;00m \u001b[38;5;28mzip\u001b[39m(sig\u001b[38;5;241m.\u001b[39mparameters, args):\n\u001b[1;32m    528\u001b[0m     kwargs[k] \u001b[38;5;241m=\u001b[39m arg\n\u001b[0;32m--> 529\u001b[0m \u001b[38;5;28;01mreturn\u001b[39;00m \u001b[43mf\u001b[49m\u001b[43m(\u001b[49m\u001b[38;5;241;43m*\u001b[39;49m\u001b[38;5;241;43m*\u001b[39;49m\u001b[43mkwargs\u001b[49m\u001b[43m)\u001b[49m\n",
      "File \u001b[0;32m~/miniforge3/envs/mlenv/lib/python3.9/site-packages/xgboost/sklearn.py:931\u001b[0m, in \u001b[0;36mXGBModel.fit\u001b[0;34m(self, X, y, sample_weight, base_margin, eval_set, eval_metric, early_stopping_rounds, verbose, xgb_model, sample_weight_eval_set, base_margin_eval_set, feature_weights, callbacks)\u001b[0m\n\u001b[1;32m    880\u001b[0m \u001b[38;5;124;03m\"\"\"Fit gradient boosting model.\u001b[39;00m\n\u001b[1;32m    881\u001b[0m \n\u001b[1;32m    882\u001b[0m \u001b[38;5;124;03mNote that calling ``fit()`` multiple times will cause the model object to be\u001b[39;00m\n\u001b[0;32m   (...)\u001b[0m\n\u001b[1;32m    928\u001b[0m \u001b[38;5;124;03m        Use `callbacks` in :py:meth:`__init__` or :py:meth:`set_params` instead.\u001b[39;00m\n\u001b[1;32m    929\u001b[0m \u001b[38;5;124;03m\"\"\"\u001b[39;00m\n\u001b[1;32m    930\u001b[0m evals_result: TrainingCallback\u001b[38;5;241m.\u001b[39mEvalsLog \u001b[38;5;241m=\u001b[39m {}\n\u001b[0;32m--> 931\u001b[0m train_dmatrix, evals \u001b[38;5;241m=\u001b[39m \u001b[43m_wrap_evaluation_matrices\u001b[49m\u001b[43m(\u001b[49m\n\u001b[1;32m    932\u001b[0m \u001b[43m    \u001b[49m\u001b[43mmissing\u001b[49m\u001b[38;5;241;43m=\u001b[39;49m\u001b[38;5;28;43mself\u001b[39;49m\u001b[38;5;241;43m.\u001b[39;49m\u001b[43mmissing\u001b[49m\u001b[43m,\u001b[49m\n\u001b[1;32m    933\u001b[0m \u001b[43m    \u001b[49m\u001b[43mX\u001b[49m\u001b[38;5;241;43m=\u001b[39;49m\u001b[43mX\u001b[49m\u001b[43m,\u001b[49m\n\u001b[1;32m    934\u001b[0m \u001b[43m    \u001b[49m\u001b[43my\u001b[49m\u001b[38;5;241;43m=\u001b[39;49m\u001b[43my\u001b[49m\u001b[43m,\u001b[49m\n\u001b[1;32m    935\u001b[0m \u001b[43m    \u001b[49m\u001b[43mgroup\u001b[49m\u001b[38;5;241;43m=\u001b[39;49m\u001b[38;5;28;43;01mNone\u001b[39;49;00m\u001b[43m,\u001b[49m\n\u001b[1;32m    936\u001b[0m \u001b[43m    \u001b[49m\u001b[43mqid\u001b[49m\u001b[38;5;241;43m=\u001b[39;49m\u001b[38;5;28;43;01mNone\u001b[39;49;00m\u001b[43m,\u001b[49m\n\u001b[1;32m    937\u001b[0m \u001b[43m    \u001b[49m\u001b[43msample_weight\u001b[49m\u001b[38;5;241;43m=\u001b[39;49m\u001b[43msample_weight\u001b[49m\u001b[43m,\u001b[49m\n\u001b[1;32m    938\u001b[0m \u001b[43m    \u001b[49m\u001b[43mbase_margin\u001b[49m\u001b[38;5;241;43m=\u001b[39;49m\u001b[43mbase_margin\u001b[49m\u001b[43m,\u001b[49m\n\u001b[1;32m    939\u001b[0m \u001b[43m    \u001b[49m\u001b[43mfeature_weights\u001b[49m\u001b[38;5;241;43m=\u001b[39;49m\u001b[43mfeature_weights\u001b[49m\u001b[43m,\u001b[49m\n\u001b[1;32m    940\u001b[0m \u001b[43m    \u001b[49m\u001b[43meval_set\u001b[49m\u001b[38;5;241;43m=\u001b[39;49m\u001b[43meval_set\u001b[49m\u001b[43m,\u001b[49m\n\u001b[1;32m    941\u001b[0m \u001b[43m    \u001b[49m\u001b[43msample_weight_eval_set\u001b[49m\u001b[38;5;241;43m=\u001b[39;49m\u001b[43msample_weight_eval_set\u001b[49m\u001b[43m,\u001b[49m\n\u001b[1;32m    942\u001b[0m \u001b[43m    \u001b[49m\u001b[43mbase_margin_eval_set\u001b[49m\u001b[38;5;241;43m=\u001b[39;49m\u001b[43mbase_margin_eval_set\u001b[49m\u001b[43m,\u001b[49m\n\u001b[1;32m    943\u001b[0m \u001b[43m    \u001b[49m\u001b[43meval_group\u001b[49m\u001b[38;5;241;43m=\u001b[39;49m\u001b[38;5;28;43;01mNone\u001b[39;49;00m\u001b[43m,\u001b[49m\n\u001b[1;32m    944\u001b[0m \u001b[43m    \u001b[49m\u001b[43meval_qid\u001b[49m\u001b[38;5;241;43m=\u001b[39;49m\u001b[38;5;28;43;01mNone\u001b[39;49;00m\u001b[43m,\u001b[49m\n\u001b[1;32m    945\u001b[0m \u001b[43m    \u001b[49m\u001b[43mcreate_dmatrix\u001b[49m\u001b[38;5;241;43m=\u001b[39;49m\u001b[38;5;28;43;01mlambda\u001b[39;49;00m\u001b[43m \u001b[49m\u001b[38;5;241;43m*\u001b[39;49m\u001b[38;5;241;43m*\u001b[39;49m\u001b[43mkwargs\u001b[49m\u001b[43m:\u001b[49m\u001b[43m \u001b[49m\u001b[43mDMatrix\u001b[49m\u001b[43m(\u001b[49m\u001b[43mnthread\u001b[49m\u001b[38;5;241;43m=\u001b[39;49m\u001b[38;5;28;43mself\u001b[39;49m\u001b[38;5;241;43m.\u001b[39;49m\u001b[43mn_jobs\u001b[49m\u001b[43m,\u001b[49m\u001b[43m \u001b[49m\u001b[38;5;241;43m*\u001b[39;49m\u001b[38;5;241;43m*\u001b[39;49m\u001b[43mkwargs\u001b[49m\u001b[43m)\u001b[49m\u001b[43m,\u001b[49m\n\u001b[1;32m    946\u001b[0m \u001b[43m    \u001b[49m\u001b[43menable_categorical\u001b[49m\u001b[38;5;241;43m=\u001b[39;49m\u001b[38;5;28;43mself\u001b[39;49m\u001b[38;5;241;43m.\u001b[39;49m\u001b[43menable_categorical\u001b[49m\u001b[43m,\u001b[49m\n\u001b[1;32m    947\u001b[0m \u001b[43m\u001b[49m\u001b[43m)\u001b[49m\n\u001b[1;32m    948\u001b[0m params \u001b[38;5;241m=\u001b[39m \u001b[38;5;28mself\u001b[39m\u001b[38;5;241m.\u001b[39mget_xgb_params()\n\u001b[1;32m    950\u001b[0m \u001b[38;5;28;01mif\u001b[39;00m callable(\u001b[38;5;28mself\u001b[39m\u001b[38;5;241m.\u001b[39mobjective):\n",
      "File \u001b[0;32m~/miniforge3/envs/mlenv/lib/python3.9/site-packages/xgboost/sklearn.py:401\u001b[0m, in \u001b[0;36m_wrap_evaluation_matrices\u001b[0;34m(missing, X, y, group, qid, sample_weight, base_margin, feature_weights, eval_set, sample_weight_eval_set, base_margin_eval_set, eval_group, eval_qid, create_dmatrix, enable_categorical)\u001b[0m\n\u001b[1;32m    381\u001b[0m \u001b[38;5;28;01mdef\u001b[39;00m \u001b[38;5;21m_wrap_evaluation_matrices\u001b[39m(\n\u001b[1;32m    382\u001b[0m     missing: \u001b[38;5;28mfloat\u001b[39m,\n\u001b[1;32m    383\u001b[0m     X: Any,\n\u001b[0;32m   (...)\u001b[0m\n\u001b[1;32m    396\u001b[0m     enable_categorical: \u001b[38;5;28mbool\u001b[39m,\n\u001b[1;32m    397\u001b[0m ) \u001b[38;5;241m-\u001b[39m\u001b[38;5;241m>\u001b[39m Tuple[Any, List[Tuple[Any, \u001b[38;5;28mstr\u001b[39m]]]:\n\u001b[1;32m    398\u001b[0m     \u001b[38;5;124;03m\"\"\"Convert array_like evaluation matrices into DMatrix.  Perform validation on the way.\u001b[39;00m\n\u001b[1;32m    399\u001b[0m \n\u001b[1;32m    400\u001b[0m \u001b[38;5;124;03m    \"\"\"\u001b[39;00m\n\u001b[0;32m--> 401\u001b[0m     train_dmatrix \u001b[38;5;241m=\u001b[39m \u001b[43mcreate_dmatrix\u001b[49m\u001b[43m(\u001b[49m\n\u001b[1;32m    402\u001b[0m \u001b[43m        \u001b[49m\u001b[43mdata\u001b[49m\u001b[38;5;241;43m=\u001b[39;49m\u001b[43mX\u001b[49m\u001b[43m,\u001b[49m\n\u001b[1;32m    403\u001b[0m \u001b[43m        \u001b[49m\u001b[43mlabel\u001b[49m\u001b[38;5;241;43m=\u001b[39;49m\u001b[43my\u001b[49m\u001b[43m,\u001b[49m\n\u001b[1;32m    404\u001b[0m \u001b[43m        \u001b[49m\u001b[43mgroup\u001b[49m\u001b[38;5;241;43m=\u001b[39;49m\u001b[43mgroup\u001b[49m\u001b[43m,\u001b[49m\n\u001b[1;32m    405\u001b[0m \u001b[43m        \u001b[49m\u001b[43mqid\u001b[49m\u001b[38;5;241;43m=\u001b[39;49m\u001b[43mqid\u001b[49m\u001b[43m,\u001b[49m\n\u001b[1;32m    406\u001b[0m \u001b[43m        \u001b[49m\u001b[43mweight\u001b[49m\u001b[38;5;241;43m=\u001b[39;49m\u001b[43msample_weight\u001b[49m\u001b[43m,\u001b[49m\n\u001b[1;32m    407\u001b[0m \u001b[43m        \u001b[49m\u001b[43mbase_margin\u001b[49m\u001b[38;5;241;43m=\u001b[39;49m\u001b[43mbase_margin\u001b[49m\u001b[43m,\u001b[49m\n\u001b[1;32m    408\u001b[0m \u001b[43m        \u001b[49m\u001b[43mfeature_weights\u001b[49m\u001b[38;5;241;43m=\u001b[39;49m\u001b[43mfeature_weights\u001b[49m\u001b[43m,\u001b[49m\n\u001b[1;32m    409\u001b[0m \u001b[43m        \u001b[49m\u001b[43mmissing\u001b[49m\u001b[38;5;241;43m=\u001b[39;49m\u001b[43mmissing\u001b[49m\u001b[43m,\u001b[49m\n\u001b[1;32m    410\u001b[0m \u001b[43m        \u001b[49m\u001b[43menable_categorical\u001b[49m\u001b[38;5;241;43m=\u001b[39;49m\u001b[43menable_categorical\u001b[49m\u001b[43m,\u001b[49m\n\u001b[1;32m    411\u001b[0m \u001b[43m    \u001b[49m\u001b[43m)\u001b[49m\n\u001b[1;32m    413\u001b[0m     n_validation \u001b[38;5;241m=\u001b[39m \u001b[38;5;241m0\u001b[39m \u001b[38;5;28;01mif\u001b[39;00m eval_set \u001b[38;5;129;01mis\u001b[39;00m \u001b[38;5;28;01mNone\u001b[39;00m \u001b[38;5;28;01melse\u001b[39;00m \u001b[38;5;28mlen\u001b[39m(eval_set)\n\u001b[1;32m    415\u001b[0m     \u001b[38;5;28;01mdef\u001b[39;00m \u001b[38;5;21mvalidate_or_none\u001b[39m(meta: Optional[Sequence], name: \u001b[38;5;28mstr\u001b[39m) \u001b[38;5;241m-\u001b[39m\u001b[38;5;241m>\u001b[39m Sequence:\n",
      "File \u001b[0;32m~/miniforge3/envs/mlenv/lib/python3.9/site-packages/xgboost/sklearn.py:945\u001b[0m, in \u001b[0;36mXGBModel.fit.<locals>.<lambda>\u001b[0;34m(**kwargs)\u001b[0m\n\u001b[1;32m    880\u001b[0m \u001b[38;5;124;03m\"\"\"Fit gradient boosting model.\u001b[39;00m\n\u001b[1;32m    881\u001b[0m \n\u001b[1;32m    882\u001b[0m \u001b[38;5;124;03mNote that calling ``fit()`` multiple times will cause the model object to be\u001b[39;00m\n\u001b[0;32m   (...)\u001b[0m\n\u001b[1;32m    928\u001b[0m \u001b[38;5;124;03m        Use `callbacks` in :py:meth:`__init__` or :py:meth:`set_params` instead.\u001b[39;00m\n\u001b[1;32m    929\u001b[0m \u001b[38;5;124;03m\"\"\"\u001b[39;00m\n\u001b[1;32m    930\u001b[0m evals_result: TrainingCallback\u001b[38;5;241m.\u001b[39mEvalsLog \u001b[38;5;241m=\u001b[39m {}\n\u001b[1;32m    931\u001b[0m train_dmatrix, evals \u001b[38;5;241m=\u001b[39m _wrap_evaluation_matrices(\n\u001b[1;32m    932\u001b[0m     missing\u001b[38;5;241m=\u001b[39m\u001b[38;5;28mself\u001b[39m\u001b[38;5;241m.\u001b[39mmissing,\n\u001b[1;32m    933\u001b[0m     X\u001b[38;5;241m=\u001b[39mX,\n\u001b[1;32m    934\u001b[0m     y\u001b[38;5;241m=\u001b[39my,\n\u001b[1;32m    935\u001b[0m     group\u001b[38;5;241m=\u001b[39m\u001b[38;5;28;01mNone\u001b[39;00m,\n\u001b[1;32m    936\u001b[0m     qid\u001b[38;5;241m=\u001b[39m\u001b[38;5;28;01mNone\u001b[39;00m,\n\u001b[1;32m    937\u001b[0m     sample_weight\u001b[38;5;241m=\u001b[39msample_weight,\n\u001b[1;32m    938\u001b[0m     base_margin\u001b[38;5;241m=\u001b[39mbase_margin,\n\u001b[1;32m    939\u001b[0m     feature_weights\u001b[38;5;241m=\u001b[39mfeature_weights,\n\u001b[1;32m    940\u001b[0m     eval_set\u001b[38;5;241m=\u001b[39meval_set,\n\u001b[1;32m    941\u001b[0m     sample_weight_eval_set\u001b[38;5;241m=\u001b[39msample_weight_eval_set,\n\u001b[1;32m    942\u001b[0m     base_margin_eval_set\u001b[38;5;241m=\u001b[39mbase_margin_eval_set,\n\u001b[1;32m    943\u001b[0m     eval_group\u001b[38;5;241m=\u001b[39m\u001b[38;5;28;01mNone\u001b[39;00m,\n\u001b[1;32m    944\u001b[0m     eval_qid\u001b[38;5;241m=\u001b[39m\u001b[38;5;28;01mNone\u001b[39;00m,\n\u001b[0;32m--> 945\u001b[0m     create_dmatrix\u001b[38;5;241m=\u001b[39m\u001b[38;5;28;01mlambda\u001b[39;00m \u001b[38;5;241m*\u001b[39m\u001b[38;5;241m*\u001b[39mkwargs: \u001b[43mDMatrix\u001b[49m\u001b[43m(\u001b[49m\u001b[43mnthread\u001b[49m\u001b[38;5;241;43m=\u001b[39;49m\u001b[38;5;28;43mself\u001b[39;49m\u001b[38;5;241;43m.\u001b[39;49m\u001b[43mn_jobs\u001b[49m\u001b[43m,\u001b[49m\u001b[43m \u001b[49m\u001b[38;5;241;43m*\u001b[39;49m\u001b[38;5;241;43m*\u001b[39;49m\u001b[43mkwargs\u001b[49m\u001b[43m)\u001b[49m,\n\u001b[1;32m    946\u001b[0m     enable_categorical\u001b[38;5;241m=\u001b[39m\u001b[38;5;28mself\u001b[39m\u001b[38;5;241m.\u001b[39menable_categorical,\n\u001b[1;32m    947\u001b[0m )\n\u001b[1;32m    948\u001b[0m params \u001b[38;5;241m=\u001b[39m \u001b[38;5;28mself\u001b[39m\u001b[38;5;241m.\u001b[39mget_xgb_params()\n\u001b[1;32m    950\u001b[0m \u001b[38;5;28;01mif\u001b[39;00m callable(\u001b[38;5;28mself\u001b[39m\u001b[38;5;241m.\u001b[39mobjective):\n",
      "File \u001b[0;32m~/miniforge3/envs/mlenv/lib/python3.9/site-packages/xgboost/core.py:529\u001b[0m, in \u001b[0;36m_deprecate_positional_args.<locals>.inner_f\u001b[0;34m(*args, **kwargs)\u001b[0m\n\u001b[1;32m    527\u001b[0m \u001b[38;5;28;01mfor\u001b[39;00m k, arg \u001b[38;5;129;01min\u001b[39;00m \u001b[38;5;28mzip\u001b[39m(sig\u001b[38;5;241m.\u001b[39mparameters, args):\n\u001b[1;32m    528\u001b[0m     kwargs[k] \u001b[38;5;241m=\u001b[39m arg\n\u001b[0;32m--> 529\u001b[0m \u001b[38;5;28;01mreturn\u001b[39;00m \u001b[43mf\u001b[49m\u001b[43m(\u001b[49m\u001b[38;5;241;43m*\u001b[39;49m\u001b[38;5;241;43m*\u001b[39;49m\u001b[43mkwargs\u001b[49m\u001b[43m)\u001b[49m\n",
      "File \u001b[0;32m~/miniforge3/envs/mlenv/lib/python3.9/site-packages/xgboost/core.py:640\u001b[0m, in \u001b[0;36mDMatrix.__init__\u001b[0;34m(self, data, label, weight, base_margin, missing, silent, feature_names, feature_types, nthread, group, qid, label_lower_bound, label_upper_bound, feature_weights, enable_categorical)\u001b[0m\n\u001b[1;32m    637\u001b[0m     \u001b[38;5;28;01massert\u001b[39;00m \u001b[38;5;28mself\u001b[39m\u001b[38;5;241m.\u001b[39mhandle \u001b[38;5;129;01mis\u001b[39;00m \u001b[38;5;129;01mnot\u001b[39;00m \u001b[38;5;28;01mNone\u001b[39;00m\n\u001b[1;32m    638\u001b[0m     \u001b[38;5;28;01mreturn\u001b[39;00m\n\u001b[0;32m--> 640\u001b[0m handle, feature_names, feature_types \u001b[38;5;241m=\u001b[39m \u001b[43mdispatch_data_backend\u001b[49m\u001b[43m(\u001b[49m\n\u001b[1;32m    641\u001b[0m \u001b[43m    \u001b[49m\u001b[43mdata\u001b[49m\u001b[43m,\u001b[49m\n\u001b[1;32m    642\u001b[0m \u001b[43m    \u001b[49m\u001b[43mmissing\u001b[49m\u001b[38;5;241;43m=\u001b[39;49m\u001b[38;5;28;43mself\u001b[39;49m\u001b[38;5;241;43m.\u001b[39;49m\u001b[43mmissing\u001b[49m\u001b[43m,\u001b[49m\n\u001b[1;32m    643\u001b[0m \u001b[43m    \u001b[49m\u001b[43mthreads\u001b[49m\u001b[38;5;241;43m=\u001b[39;49m\u001b[38;5;28;43mself\u001b[39;49m\u001b[38;5;241;43m.\u001b[39;49m\u001b[43mnthread\u001b[49m\u001b[43m,\u001b[49m\n\u001b[1;32m    644\u001b[0m \u001b[43m    \u001b[49m\u001b[43mfeature_names\u001b[49m\u001b[38;5;241;43m=\u001b[39;49m\u001b[43mfeature_names\u001b[49m\u001b[43m,\u001b[49m\n\u001b[1;32m    645\u001b[0m \u001b[43m    \u001b[49m\u001b[43mfeature_types\u001b[49m\u001b[38;5;241;43m=\u001b[39;49m\u001b[43mfeature_types\u001b[49m\u001b[43m,\u001b[49m\n\u001b[1;32m    646\u001b[0m \u001b[43m    \u001b[49m\u001b[43menable_categorical\u001b[49m\u001b[38;5;241;43m=\u001b[39;49m\u001b[43menable_categorical\u001b[49m\u001b[43m,\u001b[49m\n\u001b[1;32m    647\u001b[0m \u001b[43m\u001b[49m\u001b[43m)\u001b[49m\n\u001b[1;32m    648\u001b[0m \u001b[38;5;28;01massert\u001b[39;00m handle \u001b[38;5;129;01mis\u001b[39;00m \u001b[38;5;129;01mnot\u001b[39;00m \u001b[38;5;28;01mNone\u001b[39;00m\n\u001b[1;32m    649\u001b[0m \u001b[38;5;28mself\u001b[39m\u001b[38;5;241m.\u001b[39mhandle \u001b[38;5;241m=\u001b[39m handle\n",
      "File \u001b[0;32m~/miniforge3/envs/mlenv/lib/python3.9/site-packages/xgboost/data.py:868\u001b[0m, in \u001b[0;36mdispatch_data_backend\u001b[0;34m(data, missing, threads, feature_names, feature_types, enable_categorical)\u001b[0m\n\u001b[1;32m    866\u001b[0m     \u001b[38;5;28;01mreturn\u001b[39;00m _from_uri(data, missing, feature_names, feature_types)\n\u001b[1;32m    867\u001b[0m \u001b[38;5;28;01mif\u001b[39;00m _is_list(data):\n\u001b[0;32m--> 868\u001b[0m     \u001b[38;5;28;01mreturn\u001b[39;00m \u001b[43m_from_list\u001b[49m\u001b[43m(\u001b[49m\u001b[43mdata\u001b[49m\u001b[43m,\u001b[49m\u001b[43m \u001b[49m\u001b[43mmissing\u001b[49m\u001b[43m,\u001b[49m\u001b[43m \u001b[49m\u001b[43mthreads\u001b[49m\u001b[43m,\u001b[49m\u001b[43m \u001b[49m\u001b[43mfeature_names\u001b[49m\u001b[43m,\u001b[49m\u001b[43m \u001b[49m\u001b[43mfeature_types\u001b[49m\u001b[43m)\u001b[49m\n\u001b[1;32m    869\u001b[0m \u001b[38;5;28;01mif\u001b[39;00m _is_tuple(data):\n\u001b[1;32m    870\u001b[0m     \u001b[38;5;28;01mreturn\u001b[39;00m _from_tuple(data, missing, threads, feature_names, feature_types)\n",
      "File \u001b[0;32m~/miniforge3/envs/mlenv/lib/python3.9/site-packages/xgboost/data.py:800\u001b[0m, in \u001b[0;36m_from_list\u001b[0;34m(data, missing, n_threads, feature_names, feature_types)\u001b[0m\n\u001b[1;32m    798\u001b[0m array \u001b[38;5;241m=\u001b[39m np\u001b[38;5;241m.\u001b[39marray(data)\n\u001b[1;32m    799\u001b[0m _check_data_shape(data)\n\u001b[0;32m--> 800\u001b[0m \u001b[38;5;28;01mreturn\u001b[39;00m \u001b[43m_from_numpy_array\u001b[49m\u001b[43m(\u001b[49m\u001b[43marray\u001b[49m\u001b[43m,\u001b[49m\u001b[43m \u001b[49m\u001b[43mmissing\u001b[49m\u001b[43m,\u001b[49m\u001b[43m \u001b[49m\u001b[43mn_threads\u001b[49m\u001b[43m,\u001b[49m\u001b[43m \u001b[49m\u001b[43mfeature_names\u001b[49m\u001b[43m,\u001b[49m\u001b[43m \u001b[49m\u001b[43mfeature_types\u001b[49m\u001b[43m)\u001b[49m\n",
      "File \u001b[0;32m~/miniforge3/envs/mlenv/lib/python3.9/site-packages/xgboost/data.py:174\u001b[0m, in \u001b[0;36m_from_numpy_array\u001b[0;34m(data, missing, nthread, feature_names, feature_types)\u001b[0m\n\u001b[1;32m    170\u001b[0m \u001b[38;5;124;03m\"\"\"Initialize data from a 2-D numpy matrix.\u001b[39;00m\n\u001b[1;32m    171\u001b[0m \n\u001b[1;32m    172\u001b[0m \u001b[38;5;124;03m\"\"\"\u001b[39;00m\n\u001b[1;32m    173\u001b[0m \u001b[38;5;28;01mif\u001b[39;00m \u001b[38;5;28mlen\u001b[39m(data\u001b[38;5;241m.\u001b[39mshape) \u001b[38;5;241m!=\u001b[39m \u001b[38;5;241m2\u001b[39m:\n\u001b[0;32m--> 174\u001b[0m     \u001b[38;5;28;01mraise\u001b[39;00m \u001b[38;5;167;01mValueError\u001b[39;00m(\n\u001b[1;32m    175\u001b[0m         \u001b[38;5;124m\"\u001b[39m\u001b[38;5;124mExpecting 2 dimensional numpy.ndarray, got: \u001b[39m\u001b[38;5;124m\"\u001b[39m, data\u001b[38;5;241m.\u001b[39mshape\n\u001b[1;32m    176\u001b[0m     )\n\u001b[1;32m    177\u001b[0m data, _ \u001b[38;5;241m=\u001b[39m _ensure_np_dtype(data, data\u001b[38;5;241m.\u001b[39mdtype)\n\u001b[1;32m    178\u001b[0m handle \u001b[38;5;241m=\u001b[39m ctypes\u001b[38;5;241m.\u001b[39mc_void_p()\n",
      "\u001b[0;31mValueError\u001b[0m: ('Expecting 2 dimensional numpy.ndarray, got: ', (766,))"
     ]
    }
   ],
   "source": [
    "# reg = xgb.XGBRegressor(tree_method=\"hist\", n_estimators=64, ) t 0.00892 v 0.13876\n",
    "# reg = xgb.XGBRegressor(n_estimators=64, ) t 0.006557 v 0.13177\n",
    "# reg = xgb.XGBRegressor() t 0.0022319 v 0.13731 \n",
    "# reg = xgb.XGBRegressor(objective='reg:squarederror',max_depth=4, subsample=0.5, n_estimators=400, learning_rate = 0.01) # t 0.06649 v 0.10679\n",
    "reg = xgb.XGBRegressor(max_depth=4, subsample=0.5, n_estimators=400, learning_rate = 0.01) # t 0.06649 v 0.10679\n",
    "reg = reg.fit(x_train, y_train, eval_set=[(x_train, y_train)],verbose=0)"
   ]
  },
  {
   "cell_type": "code",
   "execution_count": 21,
   "id": "73aedd0c-a5a6-4564-a6d1-e9f0e9cfcbb9",
   "metadata": {},
   "outputs": [
    {
     "name": "stdout",
     "output_type": "stream",
     "text": [
      "train mse\n",
      "0.06649794856343441\n",
      "val mse\n",
      "0.10678597879159361\n"
     ]
    }
   ],
   "source": [
    "print(\"train mse\")\n",
    "print(np.mean(np.mean((reg.predict(x_train) - y_train)**2, axis=0)))\n",
    "print(\"val mse\")\n",
    "print(np.mean(np.mean((reg.predict(x_val) - y_val)**2, axis=0)))"
   ]
  },
  {
   "cell_type": "code",
   "execution_count": 19,
   "id": "510ef592-93d8-462b-bb06-4a81c967cdb0",
   "metadata": {},
   "outputs": [
    {
     "data": {
      "text/plain": [
       "0.06649794856343441"
      ]
     },
     "execution_count": 19,
     "metadata": {},
     "output_type": "execute_result"
    }
   ],
   "source": [
    "from sklearn.metrics import mean_squared_error\n",
    "mean_squared_error(abs(reg.predict(x_train)), abs(np.array(y_train)))"
   ]
  },
  {
   "cell_type": "code",
   "execution_count": 171,
   "id": "519fd61e-5450-4cdf-a557-7a98af980d42",
   "metadata": {},
   "outputs": [
    {
     "data": {
      "text/html": [
       "<div>\n",
       "<style scoped>\n",
       "    .dataframe tbody tr th:only-of-type {\n",
       "        vertical-align: middle;\n",
       "    }\n",
       "\n",
       "    .dataframe tbody tr th {\n",
       "        vertical-align: top;\n",
       "    }\n",
       "\n",
       "    .dataframe thead th {\n",
       "        text-align: right;\n",
       "    }\n",
       "</style>\n",
       "<table border=\"1\" class=\"dataframe\">\n",
       "  <thead>\n",
       "    <tr style=\"text-align: right;\">\n",
       "      <th></th>\n",
       "      <th>sample_id</th>\n",
       "      <th>basalt</th>\n",
       "      <th>carbonate</th>\n",
       "      <th>chloride</th>\n",
       "      <th>iron_oxide</th>\n",
       "      <th>oxalate</th>\n",
       "      <th>oxychlorine</th>\n",
       "      <th>phyllosilicate</th>\n",
       "      <th>silicate</th>\n",
       "      <th>sulfate</th>\n",
       "      <th>sulfide</th>\n",
       "    </tr>\n",
       "  </thead>\n",
       "  <tbody>\n",
       "    <tr>\n",
       "      <th>0</th>\n",
       "      <td>S0766</td>\n",
       "      <td>0.220018</td>\n",
       "      <td>0.305624</td>\n",
       "      <td>0.016430</td>\n",
       "      <td>0.410666</td>\n",
       "      <td>0.036076</td>\n",
       "      <td>0.417545</td>\n",
       "      <td>0.412734</td>\n",
       "      <td>0.352981</td>\n",
       "      <td>0.471433</td>\n",
       "      <td>0.032160</td>\n",
       "    </tr>\n",
       "    <tr>\n",
       "      <th>1</th>\n",
       "      <td>S0767</td>\n",
       "      <td>0.135092</td>\n",
       "      <td>0.104265</td>\n",
       "      <td>0.030734</td>\n",
       "      <td>0.548636</td>\n",
       "      <td>0.074946</td>\n",
       "      <td>0.093504</td>\n",
       "      <td>0.171433</td>\n",
       "      <td>0.201169</td>\n",
       "      <td>0.604088</td>\n",
       "      <td>0.622913</td>\n",
       "    </tr>\n",
       "    <tr>\n",
       "      <th>2</th>\n",
       "      <td>S0768</td>\n",
       "      <td>0.037097</td>\n",
       "      <td>0.040604</td>\n",
       "      <td>0.467958</td>\n",
       "      <td>0.279068</td>\n",
       "      <td>0.007315</td>\n",
       "      <td>0.212834</td>\n",
       "      <td>0.729188</td>\n",
       "      <td>0.074787</td>\n",
       "      <td>0.031101</td>\n",
       "      <td>0.006761</td>\n",
       "    </tr>\n",
       "    <tr>\n",
       "      <th>3</th>\n",
       "      <td>S0769</td>\n",
       "      <td>0.029507</td>\n",
       "      <td>0.094515</td>\n",
       "      <td>0.107222</td>\n",
       "      <td>0.489370</td>\n",
       "      <td>0.017725</td>\n",
       "      <td>0.025197</td>\n",
       "      <td>0.147464</td>\n",
       "      <td>0.078352</td>\n",
       "      <td>0.520174</td>\n",
       "      <td>0.295386</td>\n",
       "    </tr>\n",
       "    <tr>\n",
       "      <th>4</th>\n",
       "      <td>S0770</td>\n",
       "      <td>0.046337</td>\n",
       "      <td>0.077723</td>\n",
       "      <td>0.084300</td>\n",
       "      <td>0.156948</td>\n",
       "      <td>0.007315</td>\n",
       "      <td>0.226917</td>\n",
       "      <td>0.666759</td>\n",
       "      <td>0.211637</td>\n",
       "      <td>0.033721</td>\n",
       "      <td>0.018732</td>\n",
       "    </tr>\n",
       "    <tr>\n",
       "      <th>...</th>\n",
       "      <td>...</td>\n",
       "      <td>...</td>\n",
       "      <td>...</td>\n",
       "      <td>...</td>\n",
       "      <td>...</td>\n",
       "      <td>...</td>\n",
       "      <td>...</td>\n",
       "      <td>...</td>\n",
       "      <td>...</td>\n",
       "      <td>...</td>\n",
       "      <td>...</td>\n",
       "    </tr>\n",
       "    <tr>\n",
       "      <th>799</th>\n",
       "      <td>S1565</td>\n",
       "      <td>0.023281</td>\n",
       "      <td>0.019412</td>\n",
       "      <td>0.006929</td>\n",
       "      <td>0.043961</td>\n",
       "      <td>0.046258</td>\n",
       "      <td>0.099442</td>\n",
       "      <td>0.048913</td>\n",
       "      <td>0.031064</td>\n",
       "      <td>0.051053</td>\n",
       "      <td>0.023869</td>\n",
       "    </tr>\n",
       "    <tr>\n",
       "      <th>800</th>\n",
       "      <td>S1566</td>\n",
       "      <td>0.064673</td>\n",
       "      <td>0.219911</td>\n",
       "      <td>0.114491</td>\n",
       "      <td>0.255661</td>\n",
       "      <td>0.123495</td>\n",
       "      <td>0.255752</td>\n",
       "      <td>0.078506</td>\n",
       "      <td>0.017752</td>\n",
       "      <td>0.259824</td>\n",
       "      <td>0.332032</td>\n",
       "    </tr>\n",
       "    <tr>\n",
       "      <th>801</th>\n",
       "      <td>S1567</td>\n",
       "      <td>0.112812</td>\n",
       "      <td>0.413686</td>\n",
       "      <td>0.238003</td>\n",
       "      <td>0.231729</td>\n",
       "      <td>0.079705</td>\n",
       "      <td>0.194090</td>\n",
       "      <td>0.416790</td>\n",
       "      <td>0.108492</td>\n",
       "      <td>0.376231</td>\n",
       "      <td>0.025328</td>\n",
       "    </tr>\n",
       "    <tr>\n",
       "      <th>802</th>\n",
       "      <td>S1568</td>\n",
       "      <td>0.023281</td>\n",
       "      <td>0.019412</td>\n",
       "      <td>0.006929</td>\n",
       "      <td>0.043961</td>\n",
       "      <td>0.046258</td>\n",
       "      <td>0.160390</td>\n",
       "      <td>0.048913</td>\n",
       "      <td>0.031064</td>\n",
       "      <td>0.051053</td>\n",
       "      <td>0.023869</td>\n",
       "    </tr>\n",
       "    <tr>\n",
       "      <th>803</th>\n",
       "      <td>S1569</td>\n",
       "      <td>0.023281</td>\n",
       "      <td>0.042008</td>\n",
       "      <td>0.006395</td>\n",
       "      <td>0.043961</td>\n",
       "      <td>0.046258</td>\n",
       "      <td>0.181217</td>\n",
       "      <td>0.048913</td>\n",
       "      <td>0.031064</td>\n",
       "      <td>0.053600</td>\n",
       "      <td>0.023869</td>\n",
       "    </tr>\n",
       "  </tbody>\n",
       "</table>\n",
       "<p>804 rows × 11 columns</p>\n",
       "</div>"
      ],
      "text/plain": [
       "    sample_id    basalt  carbonate  chloride  iron_oxide   oxalate  \\\n",
       "0       S0766  0.220018   0.305624  0.016430    0.410666  0.036076   \n",
       "1       S0767  0.135092   0.104265  0.030734    0.548636  0.074946   \n",
       "2       S0768  0.037097   0.040604  0.467958    0.279068  0.007315   \n",
       "3       S0769  0.029507   0.094515  0.107222    0.489370  0.017725   \n",
       "4       S0770  0.046337   0.077723  0.084300    0.156948  0.007315   \n",
       "..        ...       ...        ...       ...         ...       ...   \n",
       "799     S1565  0.023281   0.019412  0.006929    0.043961  0.046258   \n",
       "800     S1566  0.064673   0.219911  0.114491    0.255661  0.123495   \n",
       "801     S1567  0.112812   0.413686  0.238003    0.231729  0.079705   \n",
       "802     S1568  0.023281   0.019412  0.006929    0.043961  0.046258   \n",
       "803     S1569  0.023281   0.042008  0.006395    0.043961  0.046258   \n",
       "\n",
       "     oxychlorine  phyllosilicate  silicate   sulfate   sulfide  \n",
       "0       0.417545        0.412734  0.352981  0.471433  0.032160  \n",
       "1       0.093504        0.171433  0.201169  0.604088  0.622913  \n",
       "2       0.212834        0.729188  0.074787  0.031101  0.006761  \n",
       "3       0.025197        0.147464  0.078352  0.520174  0.295386  \n",
       "4       0.226917        0.666759  0.211637  0.033721  0.018732  \n",
       "..           ...             ...       ...       ...       ...  \n",
       "799     0.099442        0.048913  0.031064  0.051053  0.023869  \n",
       "800     0.255752        0.078506  0.017752  0.259824  0.332032  \n",
       "801     0.194090        0.416790  0.108492  0.376231  0.025328  \n",
       "802     0.160390        0.048913  0.031064  0.051053  0.023869  \n",
       "803     0.181217        0.048913  0.031064  0.053600  0.023869  \n",
       "\n",
       "[804 rows x 11 columns]"
      ]
     },
     "execution_count": 171,
     "metadata": {},
     "output_type": "execute_result"
    }
   ],
   "source": [
    "pred_val = reg.predict(x_val)\n",
    "pred_test = reg.predict(x_test)\n",
    "pred_res_df = np.concatenate((pred_val,pred_test))\n",
    "pred_res_df = pd.DataFrame(pred_res_df, columns=['basalt','carbonate','chloride','iron_oxide','oxalate','oxychlorine','phyllosilicate','silicate','sulfate','sulfide'])\n",
    "ex_sub = pd.read_csv('data/submission_format.csv').drop(['basalt','carbonate','chloride','iron_oxide','oxalate','oxychlorine','phyllosilicate','silicate','sulfate','sulfide'],axis=1)\n",
    "pred = ex_sub.join(pred_res_df)\n",
    "pred"
   ]
  },
  {
   "cell_type": "code",
   "execution_count": 172,
   "id": "48065d10-e8b0-4ac9-80ec-5892e9436d4b",
   "metadata": {},
   "outputs": [],
   "source": [
    "pred.to_csv(\"preds/3_23-2-xgb1-6dev.csv\",index=False)"
   ]
  },
  {
   "cell_type": "code",
   "execution_count": null,
   "id": "77e0eb02-992c-468c-b686-477057983747",
   "metadata": {},
   "outputs": [],
   "source": []
  },
  {
   "cell_type": "code",
   "execution_count": null,
   "id": "5c4afa47-66cf-47df-82e0-b6124b877012",
   "metadata": {},
   "outputs": [],
   "source": []
  },
  {
   "cell_type": "code",
   "execution_count": 166,
   "id": "69c5865b-6180-47fc-ac41-82188164cd58",
   "metadata": {},
   "outputs": [],
   "source": [
    "# sklearn multioutput wrapper\n",
    "from sklearn.multioutput import MultiOutputRegressor\n",
    "multioutputRegressor = MultiOutputRegressor(xgb.XGBRegressor(objective='reg:squarederror',max_depth=4, subsample=0.5, n_estimators=400, learning_rate = 0.01))\n",
    "multioutputRegressor = multioutputRegressor.fit(x_train,y_train)"
   ]
  },
  {
   "cell_type": "code",
   "execution_count": 167,
   "id": "1e920923-366f-4c4e-a12d-0385a8eee866",
   "metadata": {},
   "outputs": [
    {
     "name": "stdout",
     "output_type": "stream",
     "text": [
      "train mse\n",
      "0.0665444662599591\n",
      "val mse\n",
      "0.10673692253087808\n"
     ]
    }
   ],
   "source": [
    "print(\"train mse\")\n",
    "print(np.mean(np.mean((multioutputRegressor.predict(x_train) - y_train)**2, axis=0)))\n",
    "print(\"val mse\")\n",
    "print(np.mean(np.mean((multioutputRegressor.predict(x_val) - y_val)**2, axis=0)))"
   ]
  },
  {
   "cell_type": "code",
   "execution_count": 55,
   "id": "39d4616f-51ab-4fca-b4eb-b41c1fc67a89",
   "metadata": {},
   "outputs": [
    {
     "data": {
      "text/plain": [
       "array([[ 0.11228967,  0.17554212,  0.00131563,  0.71849376,  0.01167044,\n",
       "         0.41674435,  0.5314451 ,  0.29956844,  0.6953638 , -0.00169089]],\n",
       "      dtype=float32)"
      ]
     },
     "execution_count": 55,
     "metadata": {},
     "output_type": "execute_result"
    }
   ],
   "source": [
    "multioutputRegressor.predict(np.array([x_val[0]]))"
   ]
  },
  {
   "cell_type": "code",
   "execution_count": 33,
   "id": "1c11973b-08d6-4268-8219-4c6b35f2d849",
   "metadata": {},
   "outputs": [],
   "source": [
    "pred_val = multioutputRegressor.predict(x_val)\n",
    "pred_test = multioutputRegressor.predict(x_test)\n",
    "pred_res_df = np.concatenate((pred_val,pred_test))\n",
    "pred_res_df = pd.DataFrame(pred_res_df, columns=['basalt','carbonate','chloride','iron_oxide','oxalate','oxychlorine','phyllosilicate','silicate','sulfate','sulfide'])\n",
    "ex_sub = pd.read_csv('data/submission_format.csv').drop(['basalt','carbonate','chloride','iron_oxide','oxalate','oxychlorine','phyllosilicate','silicate','sulfate','sulfide'],axis=1)\n",
    "pred = ex_sub.join(pred_res_df)\n",
    "pred"
   ]
  },
  {
   "cell_type": "code",
   "execution_count": 37,
   "id": "6284e207-92fc-4a4a-9e69-1dda50a46806",
   "metadata": {},
   "outputs": [],
   "source": [
    "pred.to_csv(\"preds/3_23-1-xgbsklmultitargwrapper.csv\",index=False)"
   ]
  },
  {
   "cell_type": "code",
   "execution_count": null,
   "id": "5fee4081-87d6-48e7-ab88-5e56286358ba",
   "metadata": {},
   "outputs": [],
   "source": []
  }
 ],
 "metadata": {
  "kernelspec": {
   "display_name": "Python (mlenv)",
   "language": "python",
   "name": "mlenv"
  },
  "language_info": {
   "codemirror_mode": {
    "name": "ipython",
    "version": 3
   },
   "file_extension": ".py",
   "mimetype": "text/x-python",
   "name": "python",
   "nbconvert_exporter": "python",
   "pygments_lexer": "ipython3",
   "version": "3.9.10"
  }
 },
 "nbformat": 4,
 "nbformat_minor": 5
}
